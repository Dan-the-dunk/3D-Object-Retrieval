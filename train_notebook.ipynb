{
 "cells": [
  {
   "cell_type": "markdown",
   "id": "55e8e8f0",
   "metadata": {
    "papermill": {
     "duration": 0.009737,
     "end_time": "2024-05-22T16:13:41.416198",
     "exception": false,
     "start_time": "2024-05-22T16:13:41.406461",
     "status": "completed"
    },
    "tags": []
   },
   "source": [
    "# 0. Install the dependencies"
   ]
  },
  {
   "cell_type": "code",
   "execution_count": 1,
   "id": "38517bf3",
   "metadata": {
    "execution": {
     "iopub.execute_input": "2024-05-22T16:13:41.437895Z",
     "iopub.status.busy": "2024-05-22T16:13:41.437601Z",
     "iopub.status.idle": "2024-05-22T16:16:59.197378Z",
     "shell.execute_reply": "2024-05-22T16:16:59.196421Z"
    },
    "papermill": {
     "duration": 197.77404,
     "end_time": "2024-05-22T16:16:59.199934",
     "exception": false,
     "start_time": "2024-05-22T16:13:41.425894",
     "status": "completed"
    },
    "tags": []
   },
   "outputs": [
    {
     "name": "stdout",
     "output_type": "stream",
     "text": [
      "Collecting open3d\r\n",
      "  Downloading open3d-0.18.0-cp310-cp310-manylinux_2_27_x86_64.whl.metadata (4.2 kB)\r\n",
      "Requirement already satisfied: numpy>=1.18.0 in /opt/conda/lib/python3.10/site-packages (from open3d) (1.26.4)\r\n",
      "Collecting dash>=2.6.0 (from open3d)\r\n",
      "  Downloading dash-2.17.0-py3-none-any.whl.metadata (10 kB)\r\n",
      "Requirement already satisfied: werkzeug>=2.2.3 in /opt/conda/lib/python3.10/site-packages (from open3d) (3.0.2)\r\n",
      "Requirement already satisfied: nbformat>=5.7.0 in /opt/conda/lib/python3.10/site-packages (from open3d) (5.9.2)\r\n",
      "Collecting configargparse (from open3d)\r\n",
      "  Downloading ConfigArgParse-1.7-py3-none-any.whl.metadata (23 kB)\r\n",
      "Collecting ipywidgets>=8.0.4 (from open3d)\r\n",
      "  Downloading ipywidgets-8.1.2-py3-none-any.whl.metadata (2.4 kB)\r\n",
      "Collecting addict (from open3d)\r\n",
      "  Downloading addict-2.4.0-py3-none-any.whl.metadata (1.0 kB)\r\n",
      "Requirement already satisfied: pillow>=9.3.0 in /opt/conda/lib/python3.10/site-packages (from open3d) (9.5.0)\r\n",
      "Requirement already satisfied: matplotlib>=3 in /opt/conda/lib/python3.10/site-packages (from open3d) (3.7.5)\r\n",
      "Requirement already satisfied: pandas>=1.0 in /opt/conda/lib/python3.10/site-packages (from open3d) (2.1.4)\r\n",
      "Requirement already satisfied: pyyaml>=5.4.1 in /opt/conda/lib/python3.10/site-packages (from open3d) (6.0.1)\r\n",
      "Requirement already satisfied: scikit-learn>=0.21 in /opt/conda/lib/python3.10/site-packages (from open3d) (1.2.2)\r\n",
      "Requirement already satisfied: tqdm in /opt/conda/lib/python3.10/site-packages (from open3d) (4.66.1)\r\n",
      "Collecting pyquaternion (from open3d)\r\n",
      "  Downloading pyquaternion-0.9.9-py3-none-any.whl.metadata (1.4 kB)\r\n",
      "Requirement already satisfied: Flask<3.1,>=1.0.4 in /opt/conda/lib/python3.10/site-packages (from dash>=2.6.0->open3d) (3.0.3)\r\n",
      "Requirement already satisfied: plotly>=5.0.0 in /opt/conda/lib/python3.10/site-packages (from dash>=2.6.0->open3d) (5.18.0)\r\n",
      "Collecting dash-html-components==2.0.0 (from dash>=2.6.0->open3d)\r\n",
      "  Downloading dash_html_components-2.0.0-py3-none-any.whl.metadata (3.8 kB)\r\n",
      "Collecting dash-core-components==2.0.0 (from dash>=2.6.0->open3d)\r\n",
      "  Downloading dash_core_components-2.0.0-py3-none-any.whl.metadata (2.9 kB)\r\n",
      "Collecting dash-table==5.0.0 (from dash>=2.6.0->open3d)\r\n",
      "  Downloading dash_table-5.0.0-py3-none-any.whl.metadata (2.4 kB)\r\n",
      "Requirement already satisfied: importlib-metadata in /opt/conda/lib/python3.10/site-packages (from dash>=2.6.0->open3d) (6.11.0)\r\n",
      "Requirement already satisfied: typing-extensions>=4.1.1 in /opt/conda/lib/python3.10/site-packages (from dash>=2.6.0->open3d) (4.9.0)\r\n",
      "Requirement already satisfied: requests in /opt/conda/lib/python3.10/site-packages (from dash>=2.6.0->open3d) (2.31.0)\r\n",
      "Requirement already satisfied: retrying in /opt/conda/lib/python3.10/site-packages (from dash>=2.6.0->open3d) (1.3.3)\r\n",
      "Requirement already satisfied: nest-asyncio in /opt/conda/lib/python3.10/site-packages (from dash>=2.6.0->open3d) (1.5.8)\r\n",
      "Requirement already satisfied: setuptools in /opt/conda/lib/python3.10/site-packages (from dash>=2.6.0->open3d) (69.0.3)\r\n",
      "Requirement already satisfied: comm>=0.1.3 in /opt/conda/lib/python3.10/site-packages (from ipywidgets>=8.0.4->open3d) (0.2.1)\r\n",
      "Requirement already satisfied: ipython>=6.1.0 in /opt/conda/lib/python3.10/site-packages (from ipywidgets>=8.0.4->open3d) (8.20.0)\r\n",
      "Requirement already satisfied: traitlets>=4.3.1 in /opt/conda/lib/python3.10/site-packages (from ipywidgets>=8.0.4->open3d) (5.9.0)\r\n",
      "Collecting widgetsnbextension~=4.0.10 (from ipywidgets>=8.0.4->open3d)\r\n",
      "  Downloading widgetsnbextension-4.0.10-py3-none-any.whl.metadata (1.6 kB)\r\n",
      "Collecting jupyterlab-widgets~=3.0.10 (from ipywidgets>=8.0.4->open3d)\r\n",
      "  Downloading jupyterlab_widgets-3.0.10-py3-none-any.whl.metadata (4.1 kB)\r\n",
      "Requirement already satisfied: contourpy>=1.0.1 in /opt/conda/lib/python3.10/site-packages (from matplotlib>=3->open3d) (1.2.0)\r\n",
      "Requirement already satisfied: cycler>=0.10 in /opt/conda/lib/python3.10/site-packages (from matplotlib>=3->open3d) (0.12.1)\r\n",
      "Requirement already satisfied: fonttools>=4.22.0 in /opt/conda/lib/python3.10/site-packages (from matplotlib>=3->open3d) (4.47.0)\r\n",
      "Requirement already satisfied: kiwisolver>=1.0.1 in /opt/conda/lib/python3.10/site-packages (from matplotlib>=3->open3d) (1.4.5)\r\n",
      "Requirement already satisfied: packaging>=20.0 in /opt/conda/lib/python3.10/site-packages (from matplotlib>=3->open3d) (21.3)\r\n",
      "Requirement already satisfied: pyparsing>=2.3.1 in /opt/conda/lib/python3.10/site-packages (from matplotlib>=3->open3d) (3.1.1)\r\n",
      "Requirement already satisfied: python-dateutil>=2.7 in /opt/conda/lib/python3.10/site-packages (from matplotlib>=3->open3d) (2.9.0.post0)\r\n",
      "Requirement already satisfied: fastjsonschema in /opt/conda/lib/python3.10/site-packages (from nbformat>=5.7.0->open3d) (2.19.1)\r\n",
      "Requirement already satisfied: jsonschema>=2.6 in /opt/conda/lib/python3.10/site-packages (from nbformat>=5.7.0->open3d) (4.20.0)\r\n",
      "Requirement already satisfied: jupyter-core in /opt/conda/lib/python3.10/site-packages (from nbformat>=5.7.0->open3d) (5.7.1)\r\n",
      "Requirement already satisfied: pytz>=2020.1 in /opt/conda/lib/python3.10/site-packages (from pandas>=1.0->open3d) (2023.3.post1)\r\n",
      "Requirement already satisfied: tzdata>=2022.1 in /opt/conda/lib/python3.10/site-packages (from pandas>=1.0->open3d) (2023.4)\r\n",
      "Requirement already satisfied: scipy>=1.3.2 in /opt/conda/lib/python3.10/site-packages (from scikit-learn>=0.21->open3d) (1.11.4)\r\n",
      "Requirement already satisfied: joblib>=1.1.1 in /opt/conda/lib/python3.10/site-packages (from scikit-learn>=0.21->open3d) (1.4.0)\r\n",
      "Requirement already satisfied: threadpoolctl>=2.0.0 in /opt/conda/lib/python3.10/site-packages (from scikit-learn>=0.21->open3d) (3.2.0)\r\n",
      "Requirement already satisfied: MarkupSafe>=2.1.1 in /opt/conda/lib/python3.10/site-packages (from werkzeug>=2.2.3->open3d) (2.1.3)\r\n",
      "Requirement already satisfied: Jinja2>=3.1.2 in /opt/conda/lib/python3.10/site-packages (from Flask<3.1,>=1.0.4->dash>=2.6.0->open3d) (3.1.2)\r\n",
      "Requirement already satisfied: itsdangerous>=2.1.2 in /opt/conda/lib/python3.10/site-packages (from Flask<3.1,>=1.0.4->dash>=2.6.0->open3d) (2.2.0)\r\n",
      "Requirement already satisfied: click>=8.1.3 in /opt/conda/lib/python3.10/site-packages (from Flask<3.1,>=1.0.4->dash>=2.6.0->open3d) (8.1.7)\r\n",
      "Requirement already satisfied: blinker>=1.6.2 in /opt/conda/lib/python3.10/site-packages (from Flask<3.1,>=1.0.4->dash>=2.6.0->open3d) (1.7.0)\r\n",
      "Requirement already satisfied: decorator in /opt/conda/lib/python3.10/site-packages (from ipython>=6.1.0->ipywidgets>=8.0.4->open3d) (5.1.1)\r\n",
      "Requirement already satisfied: jedi>=0.16 in /opt/conda/lib/python3.10/site-packages (from ipython>=6.1.0->ipywidgets>=8.0.4->open3d) (0.19.1)\r\n",
      "Requirement already satisfied: matplotlib-inline in /opt/conda/lib/python3.10/site-packages (from ipython>=6.1.0->ipywidgets>=8.0.4->open3d) (0.1.6)\r\n",
      "Requirement already satisfied: prompt-toolkit<3.1.0,>=3.0.41 in /opt/conda/lib/python3.10/site-packages (from ipython>=6.1.0->ipywidgets>=8.0.4->open3d) (3.0.42)\r\n",
      "Requirement already satisfied: pygments>=2.4.0 in /opt/conda/lib/python3.10/site-packages (from ipython>=6.1.0->ipywidgets>=8.0.4->open3d) (2.17.2)\r\n",
      "Requirement already satisfied: stack-data in /opt/conda/lib/python3.10/site-packages (from ipython>=6.1.0->ipywidgets>=8.0.4->open3d) (0.6.2)\r\n",
      "Requirement already satisfied: exceptiongroup in /opt/conda/lib/python3.10/site-packages (from ipython>=6.1.0->ipywidgets>=8.0.4->open3d) (1.2.0)\r\n",
      "Requirement already satisfied: pexpect>4.3 in /opt/conda/lib/python3.10/site-packages (from ipython>=6.1.0->ipywidgets>=8.0.4->open3d) (4.8.0)\r\n",
      "Requirement already satisfied: attrs>=22.2.0 in /opt/conda/lib/python3.10/site-packages (from jsonschema>=2.6->nbformat>=5.7.0->open3d) (23.2.0)\r\n",
      "Requirement already satisfied: jsonschema-specifications>=2023.03.6 in /opt/conda/lib/python3.10/site-packages (from jsonschema>=2.6->nbformat>=5.7.0->open3d) (2023.12.1)\r\n",
      "Requirement already satisfied: referencing>=0.28.4 in /opt/conda/lib/python3.10/site-packages (from jsonschema>=2.6->nbformat>=5.7.0->open3d) (0.32.1)\r\n",
      "Requirement already satisfied: rpds-py>=0.7.1 in /opt/conda/lib/python3.10/site-packages (from jsonschema>=2.6->nbformat>=5.7.0->open3d) (0.16.2)\r\n",
      "Requirement already satisfied: tenacity>=6.2.0 in /opt/conda/lib/python3.10/site-packages (from plotly>=5.0.0->dash>=2.6.0->open3d) (8.2.3)\r\n",
      "Requirement already satisfied: six>=1.5 in /opt/conda/lib/python3.10/site-packages (from python-dateutil>=2.7->matplotlib>=3->open3d) (1.16.0)\r\n",
      "Requirement already satisfied: zipp>=0.5 in /opt/conda/lib/python3.10/site-packages (from importlib-metadata->dash>=2.6.0->open3d) (3.17.0)\r\n",
      "Requirement already satisfied: platformdirs>=2.5 in /opt/conda/lib/python3.10/site-packages (from jupyter-core->nbformat>=5.7.0->open3d) (4.2.0)\r\n",
      "Requirement already satisfied: charset-normalizer<4,>=2 in /opt/conda/lib/python3.10/site-packages (from requests->dash>=2.6.0->open3d) (3.3.2)\r\n",
      "Requirement already satisfied: idna<4,>=2.5 in /opt/conda/lib/python3.10/site-packages (from requests->dash>=2.6.0->open3d) (3.6)\r\n",
      "Requirement already satisfied: urllib3<3,>=1.21.1 in /opt/conda/lib/python3.10/site-packages (from requests->dash>=2.6.0->open3d) (1.26.18)\r\n",
      "Requirement already satisfied: certifi>=2017.4.17 in /opt/conda/lib/python3.10/site-packages (from requests->dash>=2.6.0->open3d) (2024.2.2)\r\n",
      "Requirement already satisfied: parso<0.9.0,>=0.8.3 in /opt/conda/lib/python3.10/site-packages (from jedi>=0.16->ipython>=6.1.0->ipywidgets>=8.0.4->open3d) (0.8.3)\r\n",
      "Requirement already satisfied: ptyprocess>=0.5 in /opt/conda/lib/python3.10/site-packages (from pexpect>4.3->ipython>=6.1.0->ipywidgets>=8.0.4->open3d) (0.7.0)\r\n",
      "Requirement already satisfied: wcwidth in /opt/conda/lib/python3.10/site-packages (from prompt-toolkit<3.1.0,>=3.0.41->ipython>=6.1.0->ipywidgets>=8.0.4->open3d) (0.2.13)\r\n",
      "Requirement already satisfied: executing>=1.2.0 in /opt/conda/lib/python3.10/site-packages (from stack-data->ipython>=6.1.0->ipywidgets>=8.0.4->open3d) (2.0.1)\r\n",
      "Requirement already satisfied: asttokens>=2.1.0 in /opt/conda/lib/python3.10/site-packages (from stack-data->ipython>=6.1.0->ipywidgets>=8.0.4->open3d) (2.4.1)\r\n",
      "Requirement already satisfied: pure-eval in /opt/conda/lib/python3.10/site-packages (from stack-data->ipython>=6.1.0->ipywidgets>=8.0.4->open3d) (0.2.2)\r\n",
      "Downloading open3d-0.18.0-cp310-cp310-manylinux_2_27_x86_64.whl (399.7 MB)\r\n",
      "\u001b[2K   \u001b[90m━━━━━━━━━━━━━━━━━━━━━━━━━━━━━━━━━━━━━━━━\u001b[0m \u001b[32m399.7/399.7 MB\u001b[0m \u001b[31m4.1 MB/s\u001b[0m eta \u001b[36m0:00:00\u001b[0m\r\n",
      "\u001b[?25hDownloading dash-2.17.0-py3-none-any.whl (7.5 MB)\r\n",
      "\u001b[2K   \u001b[90m━━━━━━━━━━━━━━━━━━━━━━━━━━━━━━━━━━━━━━━━\u001b[0m \u001b[32m7.5/7.5 MB\u001b[0m \u001b[31m99.5 MB/s\u001b[0m eta \u001b[36m0:00:00\u001b[0m\r\n",
      "\u001b[?25hDownloading dash_core_components-2.0.0-py3-none-any.whl (3.8 kB)\r\n",
      "Downloading dash_html_components-2.0.0-py3-none-any.whl (4.1 kB)\r\n",
      "Downloading dash_table-5.0.0-py3-none-any.whl (3.9 kB)\r\n",
      "Downloading ipywidgets-8.1.2-py3-none-any.whl (139 kB)\r\n",
      "\u001b[2K   \u001b[90m━━━━━━━━━━━━━━━━━━━━━━━━━━━━━━━━━━━━━━━━\u001b[0m \u001b[32m139.4/139.4 kB\u001b[0m \u001b[31m10.3 MB/s\u001b[0m eta \u001b[36m0:00:00\u001b[0m\r\n",
      "\u001b[?25hDownloading addict-2.4.0-py3-none-any.whl (3.8 kB)\r\n",
      "Downloading ConfigArgParse-1.7-py3-none-any.whl (25 kB)\r\n",
      "Downloading pyquaternion-0.9.9-py3-none-any.whl (14 kB)\r\n",
      "Downloading jupyterlab_widgets-3.0.10-py3-none-any.whl (215 kB)\r\n",
      "\u001b[2K   \u001b[90m━━━━━━━━━━━━━━━━━━━━━━━━━━━━━━━━━━━━━━━━\u001b[0m \u001b[32m215.0/215.0 kB\u001b[0m \u001b[31m15.1 MB/s\u001b[0m eta \u001b[36m0:00:00\u001b[0m\r\n",
      "\u001b[?25hDownloading widgetsnbextension-4.0.10-py3-none-any.whl (2.3 MB)\r\n",
      "\u001b[2K   \u001b[90m━━━━━━━━━━━━━━━━━━━━━━━━━━━━━━━━━━━━━━━━\u001b[0m \u001b[32m2.3/2.3 MB\u001b[0m \u001b[31m73.7 MB/s\u001b[0m eta \u001b[36m0:00:00\u001b[0m\r\n",
      "\u001b[?25hInstalling collected packages: dash-table, dash-html-components, dash-core-components, addict, widgetsnbextension, pyquaternion, jupyterlab-widgets, configargparse, dash, ipywidgets, open3d\r\n",
      "  Attempting uninstall: widgetsnbextension\r\n",
      "    Found existing installation: widgetsnbextension 3.6.6\r\n",
      "    Uninstalling widgetsnbextension-3.6.6:\r\n",
      "      Successfully uninstalled widgetsnbextension-3.6.6\r\n",
      "  Attempting uninstall: jupyterlab-widgets\r\n",
      "    Found existing installation: jupyterlab-widgets 3.0.9\r\n",
      "    Uninstalling jupyterlab-widgets-3.0.9:\r\n",
      "      Successfully uninstalled jupyterlab-widgets-3.0.9\r\n",
      "  Attempting uninstall: ipywidgets\r\n",
      "    Found existing installation: ipywidgets 7.7.1\r\n",
      "    Uninstalling ipywidgets-7.7.1:\r\n",
      "      Successfully uninstalled ipywidgets-7.7.1\r\n",
      "Successfully installed addict-2.4.0 configargparse-1.7 dash-2.17.0 dash-core-components-2.0.0 dash-html-components-2.0.0 dash-table-5.0.0 ipywidgets-8.1.2 jupyterlab-widgets-3.0.10 open3d-0.18.0 pyquaternion-0.9.9 widgetsnbextension-4.0.10\r\n",
      "Collecting learning3d\r\n",
      "  Downloading learning3d-0.1.0-py3-none-any.whl.metadata (15 kB)\r\n",
      "Collecting torch==2.0.1 (from learning3d)\r\n",
      "  Downloading torch-2.0.1-cp310-cp310-manylinux1_x86_64.whl.metadata (24 kB)\r\n",
      "Collecting torchvision==0.15.2 (from learning3d)\r\n",
      "  Downloading torchvision-0.15.2-cp310-cp310-manylinux1_x86_64.whl.metadata (11 kB)\r\n",
      "Collecting h5py==3.8.0 (from learning3d)\r\n",
      "  Downloading h5py-3.8.0-cp310-cp310-manylinux_2_17_x86_64.manylinux2014_x86_64.whl.metadata (2.5 kB)\r\n",
      "Collecting ninja==1.11.1 (from learning3d)\r\n",
      "  Downloading ninja-1.11.1-py2.py3-none-manylinux_2_12_x86_64.manylinux2010_x86_64.whl.metadata (5.3 kB)\r\n",
      "Collecting open3d==0.17.0 (from learning3d)\r\n",
      "  Downloading open3d-0.17.0-cp310-cp310-manylinux_2_27_x86_64.whl.metadata (4.2 kB)\r\n",
      "Collecting tensorboardX==2.6 (from learning3d)\r\n",
      "  Downloading tensorboardX-2.6-py2.py3-none-any.whl.metadata (5.4 kB)\r\n",
      "Collecting tqdm==4.65.0 (from learning3d)\r\n",
      "  Downloading tqdm-4.65.0-py3-none-any.whl.metadata (56 kB)\r\n",
      "\u001b[2K     \u001b[90m━━━━━━━━━━━━━━━━━━━━━━━━━━━━━━━━━━━━━━━━\u001b[0m \u001b[32m57.0/57.0 kB\u001b[0m \u001b[31m3.4 MB/s\u001b[0m eta \u001b[36m0:00:00\u001b[0m\r\n",
      "\u001b[?25hRequirement already satisfied: scikit-learn==1.2.2 in /opt/conda/lib/python3.10/site-packages (from learning3d) (1.2.2)\r\n",
      "Collecting scipy==1.10.1 (from learning3d)\r\n",
      "  Downloading scipy-1.10.1-cp310-cp310-manylinux_2_17_x86_64.manylinux2014_x86_64.whl.metadata (58 kB)\r\n",
      "\u001b[2K     \u001b[90m━━━━━━━━━━━━━━━━━━━━━━━━━━━━━━━━━━━━━━━━\u001b[0m \u001b[32m58.9/58.9 kB\u001b[0m \u001b[31m3.5 MB/s\u001b[0m eta \u001b[36m0:00:00\u001b[0m\r\n",
      "\u001b[?25hCollecting numpy==1.24.3 (from learning3d)\r\n",
      "  Downloading numpy-1.24.3-cp310-cp310-manylinux_2_17_x86_64.manylinux2014_x86_64.whl.metadata (5.6 kB)\r\n",
      "Collecting transforms3d==0.4.1 (from learning3d)\r\n",
      "  Downloading transforms3d-0.4.1-py3-none-any.whl.metadata (2.8 kB)\r\n",
      "Requirement already satisfied: dash>=2.6.0 in /opt/conda/lib/python3.10/site-packages (from open3d==0.17.0->learning3d) (2.17.0)\r\n",
      "Requirement already satisfied: werkzeug>=2.2.3 in /opt/conda/lib/python3.10/site-packages (from open3d==0.17.0->learning3d) (3.0.2)\r\n",
      "Collecting nbformat==5.7.0 (from open3d==0.17.0->learning3d)\r\n",
      "  Downloading nbformat-5.7.0-py3-none-any.whl.metadata (4.7 kB)\r\n",
      "Requirement already satisfied: configargparse in /opt/conda/lib/python3.10/site-packages (from open3d==0.17.0->learning3d) (1.7)\r\n",
      "Requirement already satisfied: ipywidgets>=8.0.4 in /opt/conda/lib/python3.10/site-packages (from open3d==0.17.0->learning3d) (8.1.2)\r\n",
      "Requirement already satisfied: addict in /opt/conda/lib/python3.10/site-packages (from open3d==0.17.0->learning3d) (2.4.0)\r\n",
      "Requirement already satisfied: pillow>=9.3.0 in /opt/conda/lib/python3.10/site-packages (from open3d==0.17.0->learning3d) (9.5.0)\r\n",
      "Requirement already satisfied: matplotlib>=3 in /opt/conda/lib/python3.10/site-packages (from open3d==0.17.0->learning3d) (3.7.5)\r\n",
      "Requirement already satisfied: pandas>=1.0 in /opt/conda/lib/python3.10/site-packages (from open3d==0.17.0->learning3d) (2.1.4)\r\n",
      "Requirement already satisfied: pyyaml>=5.4.1 in /opt/conda/lib/python3.10/site-packages (from open3d==0.17.0->learning3d) (6.0.1)\r\n",
      "Requirement already satisfied: pyquaternion in /opt/conda/lib/python3.10/site-packages (from open3d==0.17.0->learning3d) (0.9.9)\r\n",
      "Requirement already satisfied: joblib>=1.1.1 in /opt/conda/lib/python3.10/site-packages (from scikit-learn==1.2.2->learning3d) (1.4.0)\r\n",
      "Requirement already satisfied: threadpoolctl>=2.0.0 in /opt/conda/lib/python3.10/site-packages (from scikit-learn==1.2.2->learning3d) (3.2.0)\r\n",
      "Requirement already satisfied: packaging in /opt/conda/lib/python3.10/site-packages (from tensorboardX==2.6->learning3d) (21.3)\r\n",
      "Requirement already satisfied: protobuf<4,>=3.8.0 in /opt/conda/lib/python3.10/site-packages (from tensorboardX==2.6->learning3d) (3.20.3)\r\n",
      "Requirement already satisfied: filelock in /opt/conda/lib/python3.10/site-packages (from torch==2.0.1->learning3d) (3.13.1)\r\n",
      "Requirement already satisfied: typing-extensions in /opt/conda/lib/python3.10/site-packages (from torch==2.0.1->learning3d) (4.9.0)\r\n",
      "Requirement already satisfied: sympy in /opt/conda/lib/python3.10/site-packages (from torch==2.0.1->learning3d) (1.12)\r\n",
      "Requirement already satisfied: networkx in /opt/conda/lib/python3.10/site-packages (from torch==2.0.1->learning3d) (3.2.1)\r\n",
      "Requirement already satisfied: jinja2 in /opt/conda/lib/python3.10/site-packages (from torch==2.0.1->learning3d) (3.1.2)\r\n",
      "Collecting nvidia-cuda-nvrtc-cu11==11.7.99 (from torch==2.0.1->learning3d)\r\n",
      "  Downloading nvidia_cuda_nvrtc_cu11-11.7.99-2-py3-none-manylinux1_x86_64.whl.metadata (1.5 kB)\r\n",
      "Collecting nvidia-cuda-runtime-cu11==11.7.99 (from torch==2.0.1->learning3d)\r\n",
      "  Downloading nvidia_cuda_runtime_cu11-11.7.99-py3-none-manylinux1_x86_64.whl.metadata (1.6 kB)\r\n",
      "Collecting nvidia-cuda-cupti-cu11==11.7.101 (from torch==2.0.1->learning3d)\r\n",
      "  Downloading nvidia_cuda_cupti_cu11-11.7.101-py3-none-manylinux1_x86_64.whl.metadata (1.6 kB)\r\n",
      "Collecting nvidia-cudnn-cu11==8.5.0.96 (from torch==2.0.1->learning3d)\r\n",
      "  Downloading nvidia_cudnn_cu11-8.5.0.96-2-py3-none-manylinux1_x86_64.whl.metadata (1.6 kB)\r\n",
      "Collecting nvidia-cublas-cu11==11.10.3.66 (from torch==2.0.1->learning3d)\r\n",
      "  Downloading nvidia_cublas_cu11-11.10.3.66-py3-none-manylinux1_x86_64.whl.metadata (1.6 kB)\r\n",
      "Collecting nvidia-cufft-cu11==10.9.0.58 (from torch==2.0.1->learning3d)\r\n",
      "  Downloading nvidia_cufft_cu11-10.9.0.58-py3-none-manylinux1_x86_64.whl.metadata (1.5 kB)\r\n",
      "Collecting nvidia-curand-cu11==10.2.10.91 (from torch==2.0.1->learning3d)\r\n",
      "  Downloading nvidia_curand_cu11-10.2.10.91-py3-none-manylinux1_x86_64.whl.metadata (1.6 kB)\r\n",
      "Collecting nvidia-cusolver-cu11==11.4.0.1 (from torch==2.0.1->learning3d)\r\n",
      "  Downloading nvidia_cusolver_cu11-11.4.0.1-2-py3-none-manylinux1_x86_64.whl.metadata (1.6 kB)\r\n",
      "Collecting nvidia-cusparse-cu11==11.7.4.91 (from torch==2.0.1->learning3d)\r\n",
      "  Downloading nvidia_cusparse_cu11-11.7.4.91-py3-none-manylinux1_x86_64.whl.metadata (1.6 kB)\r\n",
      "Collecting nvidia-nccl-cu11==2.14.3 (from torch==2.0.1->learning3d)\r\n",
      "  Downloading nvidia_nccl_cu11-2.14.3-py3-none-manylinux1_x86_64.whl.metadata (1.8 kB)\r\n",
      "Collecting nvidia-nvtx-cu11==11.7.91 (from torch==2.0.1->learning3d)\r\n",
      "  Downloading nvidia_nvtx_cu11-11.7.91-py3-none-manylinux1_x86_64.whl.metadata (1.7 kB)\r\n",
      "Collecting triton==2.0.0 (from torch==2.0.1->learning3d)\r\n",
      "  Downloading triton-2.0.0-1-cp310-cp310-manylinux2014_x86_64.manylinux_2_17_x86_64.whl.metadata (1.0 kB)\r\n",
      "Requirement already satisfied: requests in /opt/conda/lib/python3.10/site-packages (from torchvision==0.15.2->learning3d) (2.31.0)\r\n",
      "Requirement already satisfied: fastjsonschema in /opt/conda/lib/python3.10/site-packages (from nbformat==5.7.0->open3d==0.17.0->learning3d) (2.19.1)\r\n",
      "Requirement already satisfied: jsonschema>=2.6 in /opt/conda/lib/python3.10/site-packages (from nbformat==5.7.0->open3d==0.17.0->learning3d) (4.20.0)\r\n",
      "Requirement already satisfied: jupyter-core in /opt/conda/lib/python3.10/site-packages (from nbformat==5.7.0->open3d==0.17.0->learning3d) (5.7.1)\r\n",
      "Requirement already satisfied: traitlets>=5.1 in /opt/conda/lib/python3.10/site-packages (from nbformat==5.7.0->open3d==0.17.0->learning3d) (5.9.0)\r\n",
      "Requirement already satisfied: setuptools in /opt/conda/lib/python3.10/site-packages (from nvidia-cublas-cu11==11.10.3.66->torch==2.0.1->learning3d) (69.0.3)\r\n",
      "Requirement already satisfied: wheel in /opt/conda/lib/python3.10/site-packages (from nvidia-cublas-cu11==11.10.3.66->torch==2.0.1->learning3d) (0.42.0)\r\n",
      "Collecting cmake (from triton==2.0.0->torch==2.0.1->learning3d)\r\n",
      "  Downloading cmake-3.29.3-py3-none-manylinux_2_17_x86_64.manylinux2014_x86_64.whl.metadata (6.1 kB)\r\n",
      "Collecting lit (from triton==2.0.0->torch==2.0.1->learning3d)\r\n",
      "  Downloading lit-18.1.6-py3-none-any.whl.metadata (2.5 kB)\r\n",
      "Requirement already satisfied: Flask<3.1,>=1.0.4 in /opt/conda/lib/python3.10/site-packages (from dash>=2.6.0->open3d==0.17.0->learning3d) (3.0.3)\r\n",
      "Requirement already satisfied: plotly>=5.0.0 in /opt/conda/lib/python3.10/site-packages (from dash>=2.6.0->open3d==0.17.0->learning3d) (5.18.0)\r\n",
      "Requirement already satisfied: dash-html-components==2.0.0 in /opt/conda/lib/python3.10/site-packages (from dash>=2.6.0->open3d==0.17.0->learning3d) (2.0.0)\r\n",
      "Requirement already satisfied: dash-core-components==2.0.0 in /opt/conda/lib/python3.10/site-packages (from dash>=2.6.0->open3d==0.17.0->learning3d) (2.0.0)\r\n",
      "Requirement already satisfied: dash-table==5.0.0 in /opt/conda/lib/python3.10/site-packages (from dash>=2.6.0->open3d==0.17.0->learning3d) (5.0.0)\r\n",
      "Requirement already satisfied: importlib-metadata in /opt/conda/lib/python3.10/site-packages (from dash>=2.6.0->open3d==0.17.0->learning3d) (6.11.0)\r\n",
      "Requirement already satisfied: retrying in /opt/conda/lib/python3.10/site-packages (from dash>=2.6.0->open3d==0.17.0->learning3d) (1.3.3)\r\n",
      "Requirement already satisfied: nest-asyncio in /opt/conda/lib/python3.10/site-packages (from dash>=2.6.0->open3d==0.17.0->learning3d) (1.5.8)\r\n",
      "Requirement already satisfied: comm>=0.1.3 in /opt/conda/lib/python3.10/site-packages (from ipywidgets>=8.0.4->open3d==0.17.0->learning3d) (0.2.1)\r\n",
      "Requirement already satisfied: ipython>=6.1.0 in /opt/conda/lib/python3.10/site-packages (from ipywidgets>=8.0.4->open3d==0.17.0->learning3d) (8.20.0)\r\n",
      "Requirement already satisfied: widgetsnbextension~=4.0.10 in /opt/conda/lib/python3.10/site-packages (from ipywidgets>=8.0.4->open3d==0.17.0->learning3d) (4.0.10)\r\n",
      "Requirement already satisfied: jupyterlab-widgets~=3.0.10 in /opt/conda/lib/python3.10/site-packages (from ipywidgets>=8.0.4->open3d==0.17.0->learning3d) (3.0.10)\r\n",
      "Requirement already satisfied: contourpy>=1.0.1 in /opt/conda/lib/python3.10/site-packages (from matplotlib>=3->open3d==0.17.0->learning3d) (1.2.0)\r\n",
      "Requirement already satisfied: cycler>=0.10 in /opt/conda/lib/python3.10/site-packages (from matplotlib>=3->open3d==0.17.0->learning3d) (0.12.1)\r\n",
      "Requirement already satisfied: fonttools>=4.22.0 in /opt/conda/lib/python3.10/site-packages (from matplotlib>=3->open3d==0.17.0->learning3d) (4.47.0)\r\n",
      "Requirement already satisfied: kiwisolver>=1.0.1 in /opt/conda/lib/python3.10/site-packages (from matplotlib>=3->open3d==0.17.0->learning3d) (1.4.5)\r\n",
      "Requirement already satisfied: pyparsing>=2.3.1 in /opt/conda/lib/python3.10/site-packages (from matplotlib>=3->open3d==0.17.0->learning3d) (3.1.1)\r\n",
      "Requirement already satisfied: python-dateutil>=2.7 in /opt/conda/lib/python3.10/site-packages (from matplotlib>=3->open3d==0.17.0->learning3d) (2.9.0.post0)\r\n",
      "Requirement already satisfied: pytz>=2020.1 in /opt/conda/lib/python3.10/site-packages (from pandas>=1.0->open3d==0.17.0->learning3d) (2023.3.post1)\r\n",
      "Requirement already satisfied: tzdata>=2022.1 in /opt/conda/lib/python3.10/site-packages (from pandas>=1.0->open3d==0.17.0->learning3d) (2023.4)\r\n",
      "Requirement already satisfied: MarkupSafe>=2.1.1 in /opt/conda/lib/python3.10/site-packages (from werkzeug>=2.2.3->open3d==0.17.0->learning3d) (2.1.3)\r\n",
      "Requirement already satisfied: charset-normalizer<4,>=2 in /opt/conda/lib/python3.10/site-packages (from requests->torchvision==0.15.2->learning3d) (3.3.2)\r\n",
      "Requirement already satisfied: idna<4,>=2.5 in /opt/conda/lib/python3.10/site-packages (from requests->torchvision==0.15.2->learning3d) (3.6)\r\n",
      "Requirement already satisfied: urllib3<3,>=1.21.1 in /opt/conda/lib/python3.10/site-packages (from requests->torchvision==0.15.2->learning3d) (1.26.18)\r\n",
      "Requirement already satisfied: certifi>=2017.4.17 in /opt/conda/lib/python3.10/site-packages (from requests->torchvision==0.15.2->learning3d) (2024.2.2)\r\n",
      "Requirement already satisfied: mpmath>=0.19 in /opt/conda/lib/python3.10/site-packages (from sympy->torch==2.0.1->learning3d) (1.3.0)\r\n",
      "Requirement already satisfied: itsdangerous>=2.1.2 in /opt/conda/lib/python3.10/site-packages (from Flask<3.1,>=1.0.4->dash>=2.6.0->open3d==0.17.0->learning3d) (2.2.0)\r\n",
      "Requirement already satisfied: click>=8.1.3 in /opt/conda/lib/python3.10/site-packages (from Flask<3.1,>=1.0.4->dash>=2.6.0->open3d==0.17.0->learning3d) (8.1.7)\r\n",
      "Requirement already satisfied: blinker>=1.6.2 in /opt/conda/lib/python3.10/site-packages (from Flask<3.1,>=1.0.4->dash>=2.6.0->open3d==0.17.0->learning3d) (1.7.0)\r\n",
      "Requirement already satisfied: decorator in /opt/conda/lib/python3.10/site-packages (from ipython>=6.1.0->ipywidgets>=8.0.4->open3d==0.17.0->learning3d) (5.1.1)\r\n",
      "Requirement already satisfied: jedi>=0.16 in /opt/conda/lib/python3.10/site-packages (from ipython>=6.1.0->ipywidgets>=8.0.4->open3d==0.17.0->learning3d) (0.19.1)\r\n",
      "Requirement already satisfied: matplotlib-inline in /opt/conda/lib/python3.10/site-packages (from ipython>=6.1.0->ipywidgets>=8.0.4->open3d==0.17.0->learning3d) (0.1.6)\r\n",
      "Requirement already satisfied: prompt-toolkit<3.1.0,>=3.0.41 in /opt/conda/lib/python3.10/site-packages (from ipython>=6.1.0->ipywidgets>=8.0.4->open3d==0.17.0->learning3d) (3.0.42)\r\n",
      "Requirement already satisfied: pygments>=2.4.0 in /opt/conda/lib/python3.10/site-packages (from ipython>=6.1.0->ipywidgets>=8.0.4->open3d==0.17.0->learning3d) (2.17.2)\r\n",
      "Requirement already satisfied: stack-data in /opt/conda/lib/python3.10/site-packages (from ipython>=6.1.0->ipywidgets>=8.0.4->open3d==0.17.0->learning3d) (0.6.2)\r\n",
      "Requirement already satisfied: exceptiongroup in /opt/conda/lib/python3.10/site-packages (from ipython>=6.1.0->ipywidgets>=8.0.4->open3d==0.17.0->learning3d) (1.2.0)\r\n",
      "Requirement already satisfied: pexpect>4.3 in /opt/conda/lib/python3.10/site-packages (from ipython>=6.1.0->ipywidgets>=8.0.4->open3d==0.17.0->learning3d) (4.8.0)\r\n",
      "Requirement already satisfied: attrs>=22.2.0 in /opt/conda/lib/python3.10/site-packages (from jsonschema>=2.6->nbformat==5.7.0->open3d==0.17.0->learning3d) (23.2.0)\r\n",
      "Requirement already satisfied: jsonschema-specifications>=2023.03.6 in /opt/conda/lib/python3.10/site-packages (from jsonschema>=2.6->nbformat==5.7.0->open3d==0.17.0->learning3d) (2023.12.1)\r\n",
      "Requirement already satisfied: referencing>=0.28.4 in /opt/conda/lib/python3.10/site-packages (from jsonschema>=2.6->nbformat==5.7.0->open3d==0.17.0->learning3d) (0.32.1)\r\n",
      "Requirement already satisfied: rpds-py>=0.7.1 in /opt/conda/lib/python3.10/site-packages (from jsonschema>=2.6->nbformat==5.7.0->open3d==0.17.0->learning3d) (0.16.2)\r\n",
      "Requirement already satisfied: tenacity>=6.2.0 in /opt/conda/lib/python3.10/site-packages (from plotly>=5.0.0->dash>=2.6.0->open3d==0.17.0->learning3d) (8.2.3)\r\n",
      "Requirement already satisfied: six>=1.5 in /opt/conda/lib/python3.10/site-packages (from python-dateutil>=2.7->matplotlib>=3->open3d==0.17.0->learning3d) (1.16.0)\r\n",
      "Requirement already satisfied: zipp>=0.5 in /opt/conda/lib/python3.10/site-packages (from importlib-metadata->dash>=2.6.0->open3d==0.17.0->learning3d) (3.17.0)\r\n",
      "Requirement already satisfied: platformdirs>=2.5 in /opt/conda/lib/python3.10/site-packages (from jupyter-core->nbformat==5.7.0->open3d==0.17.0->learning3d) (4.2.0)\r\n",
      "Requirement already satisfied: parso<0.9.0,>=0.8.3 in /opt/conda/lib/python3.10/site-packages (from jedi>=0.16->ipython>=6.1.0->ipywidgets>=8.0.4->open3d==0.17.0->learning3d) (0.8.3)\r\n",
      "Requirement already satisfied: ptyprocess>=0.5 in /opt/conda/lib/python3.10/site-packages (from pexpect>4.3->ipython>=6.1.0->ipywidgets>=8.0.4->open3d==0.17.0->learning3d) (0.7.0)\r\n",
      "Requirement already satisfied: wcwidth in /opt/conda/lib/python3.10/site-packages (from prompt-toolkit<3.1.0,>=3.0.41->ipython>=6.1.0->ipywidgets>=8.0.4->open3d==0.17.0->learning3d) (0.2.13)\r\n",
      "Requirement already satisfied: executing>=1.2.0 in /opt/conda/lib/python3.10/site-packages (from stack-data->ipython>=6.1.0->ipywidgets>=8.0.4->open3d==0.17.0->learning3d) (2.0.1)\r\n",
      "Requirement already satisfied: asttokens>=2.1.0 in /opt/conda/lib/python3.10/site-packages (from stack-data->ipython>=6.1.0->ipywidgets>=8.0.4->open3d==0.17.0->learning3d) (2.4.1)\r\n",
      "Requirement already satisfied: pure-eval in /opt/conda/lib/python3.10/site-packages (from stack-data->ipython>=6.1.0->ipywidgets>=8.0.4->open3d==0.17.0->learning3d) (0.2.2)\r\n",
      "Downloading learning3d-0.1.0-py3-none-any.whl (126 kB)\r\n",
      "\u001b[2K   \u001b[90m━━━━━━━━━━━━━━━━━━━━━━━━━━━━━━━━━━━━━━━━\u001b[0m \u001b[32m126.3/126.3 kB\u001b[0m \u001b[31m29.0 kB/s\u001b[0m eta \u001b[36m0:00:00\u001b[0m\r\n",
      "\u001b[?25hDownloading h5py-3.8.0-cp310-cp310-manylinux_2_17_x86_64.manylinux2014_x86_64.whl (4.6 MB)\r\n",
      "\u001b[2K   \u001b[90m━━━━━━━━━━━━━━━━━━━━━━━━━━━━━━━━━━━━━━━━\u001b[0m \u001b[32m4.6/4.6 MB\u001b[0m \u001b[31m70.7 MB/s\u001b[0m eta \u001b[36m0:00:00\u001b[0m\r\n",
      "\u001b[?25hDownloading ninja-1.11.1-py2.py3-none-manylinux_2_12_x86_64.manylinux2010_x86_64.whl (145 kB)\r\n",
      "\u001b[2K   \u001b[90m━━━━━━━━━━━━━━━━━━━━━━━━━━━━━━━━━━━━━━━━\u001b[0m \u001b[32m146.0/146.0 kB\u001b[0m \u001b[31m9.7 MB/s\u001b[0m eta \u001b[36m0:00:00\u001b[0m\r\n",
      "\u001b[?25hDownloading numpy-1.24.3-cp310-cp310-manylinux_2_17_x86_64.manylinux2014_x86_64.whl (17.3 MB)\r\n",
      "\u001b[2K   \u001b[90m━━━━━━━━━━━━━━━━━━━━━━━━━━━━━━━━━━━━━━━━\u001b[0m \u001b[32m17.3/17.3 MB\u001b[0m \u001b[31m82.6 MB/s\u001b[0m eta \u001b[36m0:00:00\u001b[0m\r\n",
      "\u001b[?25hDownloading open3d-0.17.0-cp310-cp310-manylinux_2_27_x86_64.whl (420.5 MB)\r\n",
      "\u001b[2K   \u001b[90m━━━━━━━━━━━━━━━━━━━━━━━━━━━━━━━━━━━━━━━━\u001b[0m \u001b[32m420.5/420.5 MB\u001b[0m \u001b[31m3.9 MB/s\u001b[0m eta \u001b[36m0:00:00\u001b[0m\r\n",
      "\u001b[?25hDownloading scipy-1.10.1-cp310-cp310-manylinux_2_17_x86_64.manylinux2014_x86_64.whl (34.4 MB)\r\n",
      "\u001b[2K   \u001b[90m━━━━━━━━━━━━━━━━━━━━━━━━━━━━━━━━━━━━━━━━\u001b[0m \u001b[32m34.4/34.4 MB\u001b[0m \u001b[31m50.6 MB/s\u001b[0m eta \u001b[36m0:00:00\u001b[0m\r\n",
      "\u001b[?25hDownloading tensorboardX-2.6-py2.py3-none-any.whl (114 kB)\r\n",
      "\u001b[2K   \u001b[90m━━━━━━━━━━━━━━━━━━━━━━━━━━━━━━━━━━━━━━━━\u001b[0m \u001b[32m114.5/114.5 kB\u001b[0m \u001b[31m7.5 MB/s\u001b[0m eta \u001b[36m0:00:00\u001b[0m\r\n",
      "\u001b[?25hDownloading torch-2.0.1-cp310-cp310-manylinux1_x86_64.whl (619.9 MB)\r\n",
      "\u001b[2K   \u001b[90m━━━━━━━━━━━━━━━━━━━━━━━━━━━━━━━━━━━━━━━━\u001b[0m \u001b[32m619.9/619.9 MB\u001b[0m \u001b[31m2.7 MB/s\u001b[0m eta \u001b[36m0:00:00\u001b[0m\r\n",
      "\u001b[?25hDownloading torchvision-0.15.2-cp310-cp310-manylinux1_x86_64.whl (6.0 MB)\r\n",
      "\u001b[2K   \u001b[90m━━━━━━━━━━━━━━━━━━━━━━━━━━━━━━━━━━━━━━━━\u001b[0m \u001b[32m6.0/6.0 MB\u001b[0m \u001b[31m96.8 MB/s\u001b[0m eta \u001b[36m0:00:00\u001b[0m\r\n",
      "\u001b[?25hDownloading tqdm-4.65.0-py3-none-any.whl (77 kB)\r\n",
      "\u001b[2K   \u001b[90m━━━━━━━━━━━━━━━━━━━━━━━━━━━━━━━━━━━━━━━━\u001b[0m \u001b[32m77.1/77.1 kB\u001b[0m \u001b[31m5.1 MB/s\u001b[0m eta \u001b[36m0:00:00\u001b[0m\r\n",
      "\u001b[?25hDownloading transforms3d-0.4.1-py3-none-any.whl (1.4 MB)\r\n",
      "\u001b[2K   \u001b[90m━━━━━━━━━━━━━━━━━━━━━━━━━━━━━━━━━━━━━━━━\u001b[0m \u001b[32m1.4/1.4 MB\u001b[0m \u001b[31m48.1 MB/s\u001b[0m eta \u001b[36m0:00:00\u001b[0m\r\n",
      "\u001b[?25hDownloading nbformat-5.7.0-py3-none-any.whl (77 kB)\r\n",
      "\u001b[2K   \u001b[90m━━━━━━━━━━━━━━━━━━━━━━━━━━━━━━━━━━━━━━━━\u001b[0m \u001b[32m77.1/77.1 kB\u001b[0m \u001b[31m4.7 MB/s\u001b[0m eta \u001b[36m0:00:00\u001b[0m\r\n",
      "\u001b[?25hDownloading nvidia_cublas_cu11-11.10.3.66-py3-none-manylinux1_x86_64.whl (317.1 MB)\r\n",
      "\u001b[2K   \u001b[90m━━━━━━━━━━━━━━━━━━━━━━━━━━━━━━━━━━━━━━━━\u001b[0m \u001b[32m317.1/317.1 MB\u001b[0m \u001b[31m3.9 MB/s\u001b[0m eta \u001b[36m0:00:00\u001b[0m\r\n",
      "\u001b[?25hDownloading nvidia_cuda_cupti_cu11-11.7.101-py3-none-manylinux1_x86_64.whl (11.8 MB)\r\n",
      "\u001b[2K   \u001b[90m━━━━━━━━━━━━━━━━━━━━━━━━━━━━━━━━━━━━━━━━\u001b[0m \u001b[32m11.8/11.8 MB\u001b[0m \u001b[31m92.9 MB/s\u001b[0m eta \u001b[36m0:00:00\u001b[0m\r\n",
      "\u001b[?25hDownloading nvidia_cuda_nvrtc_cu11-11.7.99-2-py3-none-manylinux1_x86_64.whl (21.0 MB)\r\n",
      "\u001b[2K   \u001b[90m━━━━━━━━━━━━━━━━━━━━━━━━━━━━━━━━━━━━━━━━\u001b[0m \u001b[32m21.0/21.0 MB\u001b[0m \u001b[31m76.4 MB/s\u001b[0m eta \u001b[36m0:00:00\u001b[0m\r\n",
      "\u001b[?25hDownloading nvidia_cuda_runtime_cu11-11.7.99-py3-none-manylinux1_x86_64.whl (849 kB)\r\n",
      "\u001b[2K   \u001b[90m━━━━━━━━━━━━━━━━━━━━━━━━━━━━━━━━━━━━━━━━\u001b[0m \u001b[32m849.3/849.3 kB\u001b[0m \u001b[31m35.9 MB/s\u001b[0m eta \u001b[36m0:00:00\u001b[0m\r\n",
      "\u001b[?25hDownloading nvidia_cudnn_cu11-8.5.0.96-2-py3-none-manylinux1_x86_64.whl (557.1 MB)\r\n",
      "\u001b[2K   \u001b[90m━━━━━━━━━━━━━━━━━━━━━━━━━━━━━━━━━━━━━━━━\u001b[0m \u001b[32m557.1/557.1 MB\u001b[0m \u001b[31m1.2 MB/s\u001b[0m eta \u001b[36m0:00:00\u001b[0m\r\n",
      "\u001b[?25hDownloading nvidia_cufft_cu11-10.9.0.58-py3-none-manylinux1_x86_64.whl (168.4 MB)\r\n",
      "\u001b[2K   \u001b[90m━━━━━━━━━━━━━━━━━━━━━━━━━━━━━━━━━━━━━━━━\u001b[0m \u001b[32m168.4/168.4 MB\u001b[0m \u001b[31m6.0 MB/s\u001b[0m eta \u001b[36m0:00:00\u001b[0m\r\n",
      "\u001b[?25hDownloading nvidia_curand_cu11-10.2.10.91-py3-none-manylinux1_x86_64.whl (54.6 MB)\r\n",
      "\u001b[2K   \u001b[90m━━━━━━━━━━━━━━━━━━━━━━━━━━━━━━━━━━━━━━━━\u001b[0m \u001b[32m54.6/54.6 MB\u001b[0m \u001b[31m30.7 MB/s\u001b[0m eta \u001b[36m0:00:00\u001b[0m\r\n",
      "\u001b[?25hDownloading nvidia_cusolver_cu11-11.4.0.1-2-py3-none-manylinux1_x86_64.whl (102.6 MB)\r\n",
      "\u001b[2K   \u001b[90m━━━━━━━━━━━━━━━━━━━━━━━━━━━━━━━━━━━━━━━━\u001b[0m \u001b[32m102.6/102.6 MB\u001b[0m \u001b[31m16.3 MB/s\u001b[0m eta \u001b[36m0:00:00\u001b[0m\r\n",
      "\u001b[?25hDownloading nvidia_cusparse_cu11-11.7.4.91-py3-none-manylinux1_x86_64.whl (173.2 MB)\r\n",
      "\u001b[2K   \u001b[90m━━━━━━━━━━━━━━━━━━━━━━━━━━━━━━━━━━━━━━━━\u001b[0m \u001b[32m173.2/173.2 MB\u001b[0m \u001b[31m9.6 MB/s\u001b[0m eta \u001b[36m0:00:00\u001b[0m\r\n",
      "\u001b[?25hDownloading nvidia_nccl_cu11-2.14.3-py3-none-manylinux1_x86_64.whl (177.1 MB)\r\n",
      "\u001b[2K   \u001b[90m━━━━━━━━━━━━━━━━━━━━━━━━━━━━━━━━━━━━━━━━\u001b[0m \u001b[32m177.1/177.1 MB\u001b[0m \u001b[31m9.4 MB/s\u001b[0m eta \u001b[36m0:00:00\u001b[0m\r\n",
      "\u001b[?25hDownloading nvidia_nvtx_cu11-11.7.91-py3-none-manylinux1_x86_64.whl (98 kB)\r\n",
      "\u001b[2K   \u001b[90m━━━━━━━━━━━━━━━━━━━━━━━━━━━━━━━━━━━━━━━━\u001b[0m \u001b[32m98.6/98.6 kB\u001b[0m \u001b[31m6.3 MB/s\u001b[0m eta \u001b[36m0:00:00\u001b[0m\r\n",
      "\u001b[?25hDownloading triton-2.0.0-1-cp310-cp310-manylinux2014_x86_64.manylinux_2_17_x86_64.whl (63.3 MB)\r\n",
      "\u001b[2K   \u001b[90m━━━━━━━━━━━━━━━━━━━━━━━━━━━━━━━━━━━━━━━━\u001b[0m \u001b[32m63.3/63.3 MB\u001b[0m \u001b[31m26.7 MB/s\u001b[0m eta \u001b[36m0:00:00\u001b[0m\r\n",
      "\u001b[?25hDownloading cmake-3.29.3-py3-none-manylinux_2_17_x86_64.manylinux2014_x86_64.whl (26.7 MB)\r\n",
      "\u001b[2K   \u001b[90m━━━━━━━━━━━━━━━━━━━━━━━━━━━━━━━━━━━━━━━━\u001b[0m \u001b[32m26.7/26.7 MB\u001b[0m \u001b[31m64.3 MB/s\u001b[0m eta \u001b[36m0:00:00\u001b[0m\r\n",
      "\u001b[?25hDownloading lit-18.1.6-py3-none-any.whl (96 kB)\r\n",
      "\u001b[2K   \u001b[90m━━━━━━━━━━━━━━━━━━━━━━━━━━━━━━━━━━━━━━━━\u001b[0m \u001b[32m96.4/96.4 kB\u001b[0m \u001b[31m6.2 MB/s\u001b[0m eta \u001b[36m0:00:00\u001b[0m\r\n",
      "\u001b[?25hInstalling collected packages: ninja, lit, transforms3d, tqdm, nvidia-nvtx-cu11, nvidia-nccl-cu11, nvidia-cusparse-cu11, nvidia-curand-cu11, nvidia-cufft-cu11, nvidia-cuda-runtime-cu11, nvidia-cuda-nvrtc-cu11, nvidia-cuda-cupti-cu11, nvidia-cublas-cu11, numpy, cmake, tensorboardX, scipy, nvidia-cusolver-cu11, nvidia-cudnn-cu11, h5py, nbformat, open3d, triton, torch, torchvision, learning3d\r\n",
      "  Attempting uninstall: ninja\r\n",
      "    Found existing installation: ninja 1.11.1.1\r\n",
      "    Uninstalling ninja-1.11.1.1:\r\n",
      "      Successfully uninstalled ninja-1.11.1.1\r\n",
      "  Attempting uninstall: tqdm\r\n",
      "    Found existing installation: tqdm 4.66.1\r\n",
      "    Uninstalling tqdm-4.66.1:\r\n",
      "      Successfully uninstalled tqdm-4.66.1\r\n",
      "  Attempting uninstall: numpy\r\n",
      "    Found existing installation: numpy 1.26.4\r\n",
      "    Uninstalling numpy-1.26.4:\r\n",
      "      Successfully uninstalled numpy-1.26.4\r\n",
      "  Attempting uninstall: tensorboardX\r\n",
      "    Found existing installation: tensorboardX 2.6.2.2\r\n",
      "    Uninstalling tensorboardX-2.6.2.2:\r\n",
      "      Successfully uninstalled tensorboardX-2.6.2.2\r\n",
      "  Attempting uninstall: scipy\r\n",
      "    Found existing installation: scipy 1.11.4\r\n",
      "    Uninstalling scipy-1.11.4:\r\n",
      "      Successfully uninstalled scipy-1.11.4\r\n",
      "  Attempting uninstall: h5py\r\n",
      "    Found existing installation: h5py 3.10.0\r\n",
      "    Uninstalling h5py-3.10.0:\r\n",
      "      Successfully uninstalled h5py-3.10.0\r\n",
      "  Attempting uninstall: nbformat\r\n",
      "    Found existing installation: nbformat 5.9.2\r\n",
      "    Uninstalling nbformat-5.9.2:\r\n",
      "      Successfully uninstalled nbformat-5.9.2\r\n",
      "  Attempting uninstall: open3d\r\n",
      "    Found existing installation: open3d 0.18.0\r\n",
      "    Uninstalling open3d-0.18.0:\r\n",
      "      Successfully uninstalled open3d-0.18.0\r\n",
      "  Attempting uninstall: torch\r\n",
      "    Found existing installation: torch 2.1.2\r\n",
      "    Uninstalling torch-2.1.2:\r\n",
      "      Successfully uninstalled torch-2.1.2\r\n",
      "  Attempting uninstall: torchvision\r\n",
      "    Found existing installation: torchvision 0.16.2\r\n",
      "    Uninstalling torchvision-0.16.2:\r\n",
      "      Successfully uninstalled torchvision-0.16.2\r\n",
      "\u001b[31mERROR: pip's dependency resolver does not currently take into account all the packages that are installed. This behaviour is the source of the following dependency conflicts.\r\n",
      "cudf 23.8.0 requires cubinlinker, which is not installed.\r\n",
      "cudf 23.8.0 requires cupy-cuda11x>=12.0.0, which is not installed.\r\n",
      "cudf 23.8.0 requires ptxcompiler, which is not installed.\r\n",
      "cuml 23.8.0 requires cupy-cuda11x>=12.0.0, which is not installed.\r\n",
      "dask-cudf 23.8.0 requires cupy-cuda11x>=12.0.0, which is not installed.\r\n",
      "keras-cv 0.8.2 requires keras-core, which is not installed.\r\n",
      "keras-nlp 0.9.3 requires keras-core, which is not installed.\r\n",
      "tensorflow-decision-forests 1.8.1 requires wurlitzer, which is not installed.\r\n",
      "albumentations 1.4.0 requires numpy>=1.24.4, but you have numpy 1.24.3 which is incompatible.\r\n",
      "apache-beam 2.46.0 requires dill<0.3.2,>=0.3.1.1, but you have dill 0.3.8 which is incompatible.\r\n",
      "apache-beam 2.46.0 requires pyarrow<10.0.0,>=3.0.0, but you have pyarrow 15.0.2 which is incompatible.\r\n",
      "beatrix-jupyterlab 2023.128.151533 requires jupyterlab~=3.6.0, but you have jupyterlab 4.1.6 which is incompatible.\r\n",
      "cudf 23.8.0 requires cuda-python<12.0a0,>=11.7.1, but you have cuda-python 12.4.0 which is incompatible.\r\n",
      "cudf 23.8.0 requires pandas<1.6.0dev0,>=1.3, but you have pandas 2.1.4 which is incompatible.\r\n",
      "cudf 23.8.0 requires protobuf<5,>=4.21, but you have protobuf 3.20.3 which is incompatible.\r\n",
      "cudf 23.8.0 requires pyarrow==11.*, but you have pyarrow 15.0.2 which is incompatible.\r\n",
      "cuml 23.8.0 requires dask==2023.7.1, but you have dask 2024.4.1 which is incompatible.\r\n",
      "dask-cuda 23.8.0 requires dask==2023.7.1, but you have dask 2024.4.1 which is incompatible.\r\n",
      "dask-cuda 23.8.0 requires pandas<1.6.0dev0,>=1.3, but you have pandas 2.1.4 which is incompatible.\r\n",
      "dask-cudf 23.8.0 requires dask==2023.7.1, but you have dask 2024.4.1 which is incompatible.\r\n",
      "dask-cudf 23.8.0 requires pandas<1.6.0dev0,>=1.3, but you have pandas 2.1.4 which is incompatible.\r\n",
      "featuretools 1.30.0 requires numpy>=1.25.0, but you have numpy 1.24.3 which is incompatible.\r\n",
      "fitter 1.7.0 requires tqdm<5.0.0,>=4.65.1, but you have tqdm 4.65.0 which is incompatible.\r\n",
      "jupyterlab 4.1.6 requires jupyter-lsp>=2.0.0, but you have jupyter-lsp 1.5.1 which is incompatible.\r\n",
      "jupyterlab-lsp 5.1.0 requires jupyter-lsp>=2.0.0, but you have jupyter-lsp 1.5.1 which is incompatible.\r\n",
      "kaggle-environments 1.14.3 requires scipy>=1.11.2, but you have scipy 1.10.1 which is incompatible.\r\n",
      "libpysal 4.9.2 requires packaging>=22, but you have packaging 21.3 which is incompatible.\r\n",
      "libpysal 4.9.2 requires shapely>=2.0.1, but you have shapely 1.8.5.post1 which is incompatible.\r\n",
      "momepy 0.7.0 requires shapely>=2, but you have shapely 1.8.5.post1 which is incompatible.\r\n",
      "osmnx 1.9.2 requires shapely>=2.0, but you have shapely 1.8.5.post1 which is incompatible.\r\n",
      "pylibraft 23.8.0 requires cuda-python<12.0a0,>=11.7.1, but you have cuda-python 12.4.0 which is incompatible.\r\n",
      "raft-dask 23.8.0 requires dask==2023.7.1, but you have dask 2024.4.1 which is incompatible.\r\n",
      "rmm 23.8.0 requires cuda-python<12.0a0,>=11.7.1, but you have cuda-python 12.4.0 which is incompatible.\r\n",
      "spopt 0.6.0 requires shapely>=2.0.1, but you have shapely 1.8.5.post1 which is incompatible.\r\n",
      "tensorflow 2.15.0 requires keras<2.16,>=2.15.0, but you have keras 3.2.1 which is incompatible.\r\n",
      "tensorstore 0.1.56 requires ml-dtypes>=0.3.1, but you have ml-dtypes 0.2.0 which is incompatible.\r\n",
      "woodwork 0.30.0 requires numpy>=1.25.0, but you have numpy 1.24.3 which is incompatible.\r\n",
      "xarray 2024.3.0 requires packaging>=22, but you have packaging 21.3 which is incompatible.\u001b[0m\u001b[31m\r\n",
      "\u001b[0mSuccessfully installed cmake-3.29.3 h5py-3.8.0 learning3d-0.1.0 lit-18.1.6 nbformat-5.7.0 ninja-1.11.1 numpy-1.24.3 nvidia-cublas-cu11-11.10.3.66 nvidia-cuda-cupti-cu11-11.7.101 nvidia-cuda-nvrtc-cu11-11.7.99 nvidia-cuda-runtime-cu11-11.7.99 nvidia-cudnn-cu11-8.5.0.96 nvidia-cufft-cu11-10.9.0.58 nvidia-curand-cu11-10.2.10.91 nvidia-cusolver-cu11-11.4.0.1 nvidia-cusparse-cu11-11.7.4.91 nvidia-nccl-cu11-2.14.3 nvidia-nvtx-cu11-11.7.91 open3d-0.17.0 scipy-1.10.1 tensorboardX-2.6 torch-2.0.1 torchvision-0.15.2 tqdm-4.65.0 transforms3d-0.4.1 triton-2.0.0\r\n"
     ]
    }
   ],
   "source": [
    "!pip install open3d\n",
    "!pip install learning3d"
   ]
  },
  {
   "cell_type": "code",
   "execution_count": 2,
   "id": "6fe7c9bd",
   "metadata": {
    "execution": {
     "iopub.execute_input": "2024-05-22T16:16:59.399114Z",
     "iopub.status.busy": "2024-05-22T16:16:59.398777Z",
     "iopub.status.idle": "2024-05-22T16:17:00.351464Z",
     "shell.execute_reply": "2024-05-22T16:17:00.350513Z"
    },
    "papermill": {
     "duration": 1.053152,
     "end_time": "2024-05-22T16:17:00.353635",
     "exception": false,
     "start_time": "2024-05-22T16:16:59.300483",
     "status": "completed"
    },
    "tags": []
   },
   "outputs": [
    {
     "name": "stdout",
     "output_type": "stream",
     "text": [
      "Python 3.10.13\r\n"
     ]
    }
   ],
   "source": [
    "!python --version"
   ]
  },
  {
   "cell_type": "code",
   "execution_count": 3,
   "id": "5cbf99d8",
   "metadata": {
    "_cell_guid": "b1076dfc-b9ad-4769-8c92-a6c4dae69d19",
    "_uuid": "8f2839f25d086af736a60e9eeb907d3b93b6e0e5",
    "execution": {
     "iopub.execute_input": "2024-05-22T16:17:00.590130Z",
     "iopub.status.busy": "2024-05-22T16:17:00.589795Z",
     "iopub.status.idle": "2024-05-22T16:17:05.910081Z",
     "shell.execute_reply": "2024-05-22T16:17:05.909307Z"
    },
    "papermill": {
     "duration": 5.418901,
     "end_time": "2024-05-22T16:17:05.912397",
     "exception": false,
     "start_time": "2024-05-22T16:17:00.493496",
     "status": "completed"
    },
    "tags": []
   },
   "outputs": [
    {
     "name": "stdout",
     "output_type": "stream",
     "text": [
      "Jupyter environment detected. Enabling Open3D WebVisualizer.\n",
      "[Open3D INFO] WebRTC GUI backend enabled.\n",
      "[Open3D INFO] WebRTCWindowSystem: HTTP handshake server disabled.\n"
     ]
    }
   ],
   "source": [
    "import numpy as np # linear algebra\n",
    "import pandas as pd # data processing, CSV file I/O (e.g. pd.read_csv)\n",
    "import os\n",
    "import open3d as o3d\n",
    "import torch\n",
    "from learning3d.models import PointNet, DGCNN, PPFNet, DCP\n",
    "from learning3d.models import Classifier"
   ]
  },
  {
   "cell_type": "code",
   "execution_count": 4,
   "id": "ca98e9a9",
   "metadata": {
    "execution": {
     "iopub.execute_input": "2024-05-22T16:17:06.106195Z",
     "iopub.status.busy": "2024-05-22T16:17:06.105600Z",
     "iopub.status.idle": "2024-05-22T16:17:06.110215Z",
     "shell.execute_reply": "2024-05-22T16:17:06.109451Z"
    },
    "papermill": {
     "duration": 0.103291,
     "end_time": "2024-05-22T16:17:06.112111",
     "exception": false,
     "start_time": "2024-05-22T16:17:06.008820",
     "status": "completed"
    },
    "tags": []
   },
   "outputs": [],
   "source": [
    "device = o3d.core.Device(\"CUDA:1\")\n",
    "dtype = o3d.core.float32"
   ]
  },
  {
   "cell_type": "markdown",
   "id": "ad188e00",
   "metadata": {
    "papermill": {
     "duration": 0.095177,
     "end_time": "2024-05-22T16:17:06.304783",
     "exception": false,
     "start_time": "2024-05-22T16:17:06.209606",
     "status": "completed"
    },
    "tags": []
   },
   "source": [
    "# 1. Load and preprocess data"
   ]
  },
  {
   "cell_type": "code",
   "execution_count": 5,
   "id": "2d908c59",
   "metadata": {
    "execution": {
     "iopub.execute_input": "2024-05-22T16:17:06.496759Z",
     "iopub.status.busy": "2024-05-22T16:17:06.496467Z",
     "iopub.status.idle": "2024-05-22T16:17:06.503176Z",
     "shell.execute_reply": "2024-05-22T16:17:06.502357Z"
    },
    "papermill": {
     "duration": 0.10511,
     "end_time": "2024-05-22T16:17:06.505149",
     "exception": false,
     "start_time": "2024-05-22T16:17:06.400039",
     "status": "completed"
    },
    "tags": []
   },
   "outputs": [
    {
     "data": {
      "text/plain": [
       "'%%time\\nmesh = o3d.io.read_triangle_mesh(\"/kaggle/input/2d-3d-retrieval-dataset/wb_2D3Dretrieval_dataset/database/0.stl\")\\npcd = mesh.sample_points_uniformly(1024)\\npoint_arr = np.asarray(pcd.points)\\nprint(f\"Point cloud arr shape {point_arr.shape}, max: {np.max(point_arr)}, min: {np.min(point_arr)}\")'"
      ]
     },
     "execution_count": 5,
     "metadata": {},
     "output_type": "execute_result"
    }
   ],
   "source": [
    "\"\"\"%%time\n",
    "mesh = o3d.io.read_triangle_mesh(\"/kaggle/input/2d-3d-retrieval-dataset/wb_2D3Dretrieval_dataset/database/0.stl\")\n",
    "pcd = mesh.sample_points_uniformly(1024)\n",
    "point_arr = np.asarray(pcd.points)\n",
    "print(f\"Point cloud arr shape {point_arr.shape}, max: {np.max(point_arr)}, min: {np.min(point_arr)}\")\"\"\""
   ]
  },
  {
   "cell_type": "code",
   "execution_count": 6,
   "id": "2fc05236",
   "metadata": {
    "execution": {
     "iopub.execute_input": "2024-05-22T16:17:06.699001Z",
     "iopub.status.busy": "2024-05-22T16:17:06.698217Z",
     "iopub.status.idle": "2024-05-22T16:17:06.715837Z",
     "shell.execute_reply": "2024-05-22T16:17:06.715099Z"
    },
    "papermill": {
     "duration": 0.116404,
     "end_time": "2024-05-22T16:17:06.717720",
     "exception": false,
     "start_time": "2024-05-22T16:17:06.601316",
     "status": "completed"
    },
    "tags": []
   },
   "outputs": [],
   "source": [
    "df = pd.read_csv('/kaggle/input/2d-3d-retrieval-dataset/wb_2D3Dretrieval_dataset/labels.csv')"
   ]
  },
  {
   "cell_type": "code",
   "execution_count": 7,
   "id": "05646538",
   "metadata": {
    "execution": {
     "iopub.execute_input": "2024-05-22T16:17:06.912770Z",
     "iopub.status.busy": "2024-05-22T16:17:06.912435Z",
     "iopub.status.idle": "2024-05-22T16:17:06.931143Z",
     "shell.execute_reply": "2024-05-22T16:17:06.930298Z"
    },
    "papermill": {
     "duration": 0.11857,
     "end_time": "2024-05-22T16:17:06.933089",
     "exception": false,
     "start_time": "2024-05-22T16:17:06.814519",
     "status": "completed"
    },
    "tags": []
   },
   "outputs": [
    {
     "data": {
      "text/html": [
       "<div>\n",
       "<style scoped>\n",
       "    .dataframe tbody tr th:only-of-type {\n",
       "        vertical-align: middle;\n",
       "    }\n",
       "\n",
       "    .dataframe tbody tr th {\n",
       "        vertical-align: top;\n",
       "    }\n",
       "\n",
       "    .dataframe thead th {\n",
       "        text-align: right;\n",
       "    }\n",
       "</style>\n",
       "<table border=\"1\" class=\"dataframe\">\n",
       "  <thead>\n",
       "    <tr style=\"text-align: right;\">\n",
       "      <th></th>\n",
       "      <th>query</th>\n",
       "      <th>label</th>\n",
       "    </tr>\n",
       "  </thead>\n",
       "  <tbody>\n",
       "    <tr>\n",
       "      <th>0</th>\n",
       "      <td>0.png</td>\n",
       "      <td>0.stl,17.stl,70.stl,110.stl,130.stl</td>\n",
       "    </tr>\n",
       "    <tr>\n",
       "      <th>1</th>\n",
       "      <td>1.png</td>\n",
       "      <td>1.stl,13.stl,19.stl,223.stl,119.stl</td>\n",
       "    </tr>\n",
       "    <tr>\n",
       "      <th>2</th>\n",
       "      <td>10.png</td>\n",
       "      <td>10.stl,155.stl,237.stl,75.stl,15.stl</td>\n",
       "    </tr>\n",
       "    <tr>\n",
       "      <th>3</th>\n",
       "      <td>100.png</td>\n",
       "      <td>100.stl,72.stl,216.stl,127.stl,55.stl</td>\n",
       "    </tr>\n",
       "    <tr>\n",
       "      <th>4</th>\n",
       "      <td>101.png</td>\n",
       "      <td>101.stl,134.stl,248.stl,31.stl,199.stl</td>\n",
       "    </tr>\n",
       "  </tbody>\n",
       "</table>\n",
       "</div>"
      ],
      "text/plain": [
       "     query                                   label\n",
       "0    0.png     0.stl,17.stl,70.stl,110.stl,130.stl\n",
       "1    1.png     1.stl,13.stl,19.stl,223.stl,119.stl\n",
       "2   10.png    10.stl,155.stl,237.stl,75.stl,15.stl\n",
       "3  100.png   100.stl,72.stl,216.stl,127.stl,55.stl\n",
       "4  101.png  101.stl,134.stl,248.stl,31.stl,199.stl"
      ]
     },
     "execution_count": 7,
     "metadata": {},
     "output_type": "execute_result"
    }
   ],
   "source": [
    "df.head()"
   ]
  },
  {
   "cell_type": "code",
   "execution_count": 8,
   "id": "7dfa7b52",
   "metadata": {
    "execution": {
     "iopub.execute_input": "2024-05-22T16:17:07.128862Z",
     "iopub.status.busy": "2024-05-22T16:17:07.128472Z",
     "iopub.status.idle": "2024-05-22T16:17:07.135180Z",
     "shell.execute_reply": "2024-05-22T16:17:07.134363Z"
    },
    "papermill": {
     "duration": 0.106541,
     "end_time": "2024-05-22T16:17:07.137190",
     "exception": false,
     "start_time": "2024-05-22T16:17:07.030649",
     "status": "completed"
    },
    "tags": []
   },
   "outputs": [],
   "source": [
    "df['label'] = df['label'].apply(lambda x: x.split(','))"
   ]
  },
  {
   "cell_type": "code",
   "execution_count": 9,
   "id": "a5aa90d5",
   "metadata": {
    "execution": {
     "iopub.execute_input": "2024-05-22T16:17:07.332419Z",
     "iopub.status.busy": "2024-05-22T16:17:07.332116Z",
     "iopub.status.idle": "2024-05-22T16:17:07.343767Z",
     "shell.execute_reply": "2024-05-22T16:17:07.342941Z"
    },
    "papermill": {
     "duration": 0.110838,
     "end_time": "2024-05-22T16:17:07.345657",
     "exception": false,
     "start_time": "2024-05-22T16:17:07.234819",
     "status": "completed"
    },
    "tags": []
   },
   "outputs": [],
   "source": [
    "# split the df into train and test\n",
    "from sklearn.model_selection import train_test_split\n",
    "train_df, test_df = train_test_split(df, test_size=0.2, random_state=42)"
   ]
  },
  {
   "cell_type": "code",
   "execution_count": 10,
   "id": "7dffca8e",
   "metadata": {
    "execution": {
     "iopub.execute_input": "2024-05-22T16:17:07.539137Z",
     "iopub.status.busy": "2024-05-22T16:17:07.538833Z",
     "iopub.status.idle": "2024-05-22T16:17:07.556506Z",
     "shell.execute_reply": "2024-05-22T16:17:07.555601Z"
    },
    "papermill": {
     "duration": 0.117256,
     "end_time": "2024-05-22T16:17:07.558852",
     "exception": false,
     "start_time": "2024-05-22T16:17:07.441596",
     "status": "completed"
    },
    "tags": []
   },
   "outputs": [
    {
     "name": "stdout",
     "output_type": "stream",
     "text": [
      "<class 'pandas.core.frame.DataFrame'>\n",
      "Index: 201 entries, 136 to 102\n",
      "Data columns (total 2 columns):\n",
      " #   Column  Non-Null Count  Dtype \n",
      "---  ------  --------------  ----- \n",
      " 0   query   201 non-null    object\n",
      " 1   label   201 non-null    object\n",
      "dtypes: object(2)\n",
      "memory usage: 4.7+ KB\n"
     ]
    }
   ],
   "source": [
    "train_df.info()"
   ]
  },
  {
   "cell_type": "code",
   "execution_count": 11,
   "id": "124b074e",
   "metadata": {
    "execution": {
     "iopub.execute_input": "2024-05-22T16:17:07.754590Z",
     "iopub.status.busy": "2024-05-22T16:17:07.754262Z",
     "iopub.status.idle": "2024-05-22T16:17:07.763623Z",
     "shell.execute_reply": "2024-05-22T16:17:07.762761Z"
    },
    "papermill": {
     "duration": 0.108048,
     "end_time": "2024-05-22T16:17:07.765589",
     "exception": false,
     "start_time": "2024-05-22T16:17:07.657541",
     "status": "completed"
    },
    "tags": []
   },
   "outputs": [
    {
     "name": "stdout",
     "output_type": "stream",
     "text": [
      "<class 'pandas.core.frame.DataFrame'>\n",
      "Index: 51 entries, 165 to 38\n",
      "Data columns (total 2 columns):\n",
      " #   Column  Non-Null Count  Dtype \n",
      "---  ------  --------------  ----- \n",
      " 0   query   51 non-null     object\n",
      " 1   label   51 non-null     object\n",
      "dtypes: object(2)\n",
      "memory usage: 1.2+ KB\n"
     ]
    }
   ],
   "source": [
    "test_df.info()"
   ]
  },
  {
   "cell_type": "code",
   "execution_count": 12,
   "id": "de1ad035",
   "metadata": {
    "execution": {
     "iopub.execute_input": "2024-05-22T16:17:07.959351Z",
     "iopub.status.busy": "2024-05-22T16:17:07.959006Z",
     "iopub.status.idle": "2024-05-22T16:18:45.212741Z",
     "shell.execute_reply": "2024-05-22T16:18:45.211804Z"
    },
    "papermill": {
     "duration": 97.451973,
     "end_time": "2024-05-22T16:18:45.313272",
     "exception": false,
     "start_time": "2024-05-22T16:17:07.861299",
     "status": "completed"
    },
    "tags": []
   },
   "outputs": [
    {
     "name": "stdout",
     "output_type": "stream",
     "text": [
      "CPU times: user 1min 15s, sys: 11.9 s, total: 1min 27s\n",
      "Wall time: 1min 37s\n"
     ]
    }
   ],
   "source": [
    "%%time\n",
    "\n",
    "# Load all the database into the RAM, in form of a dictionary\n",
    "\n",
    "db_names = os.listdir('/kaggle/input/2d-3d-retrieval-dataset/wb_2D3Dretrieval_dataset/database')\n",
    "#db_list = ['/kaggle/input/2d-3d-retrieval-dataset/wb_2D3Dretrieval_dataset/database/' + path for path in db_names]\n",
    "database_arr = {}\n",
    "\n",
    "for path in db_names:\n",
    "    mesh = o3d.io.read_triangle_mesh('/kaggle/input/2d-3d-retrieval-dataset/wb_2D3Dretrieval_dataset/database/' + path)\n",
    "    pcd = mesh.sample_points_uniformly(1024)\n",
    "    point_arr = np.asarray(pcd.points)\n",
    "    database_arr[path] = point_arr"
   ]
  },
  {
   "cell_type": "code",
   "execution_count": 13,
   "id": "d453e64e",
   "metadata": {
    "execution": {
     "iopub.execute_input": "2024-05-22T16:18:45.514488Z",
     "iopub.status.busy": "2024-05-22T16:18:45.514110Z",
     "iopub.status.idle": "2024-05-22T16:18:47.809237Z",
     "shell.execute_reply": "2024-05-22T16:18:47.808342Z"
    },
    "papermill": {
     "duration": 2.39767,
     "end_time": "2024-05-22T16:18:47.811577",
     "exception": false,
     "start_time": "2024-05-22T16:18:45.413907",
     "status": "completed"
    },
    "tags": []
   },
   "outputs": [],
   "source": [
    "import pandas as pd\n",
    "import numpy as np\n",
    "from PIL import Image\n",
    "\n",
    "import torch\n",
    "import torch.nn as nn\n",
    "from torch.utils.data import Dataset, DataLoader, random_split\n",
    "from torchvision import transforms\n",
    "\n",
    "import albumentations as A\n",
    "from albumentations.pytorch import ToTensorV2\n",
    "\n",
    "from timm.data import create_transform\n",
    "import timm"
   ]
  },
  {
   "cell_type": "code",
   "execution_count": 14,
   "id": "885a64d8",
   "metadata": {
    "execution": {
     "iopub.execute_input": "2024-05-22T16:18:48.007799Z",
     "iopub.status.busy": "2024-05-22T16:18:48.007488Z",
     "iopub.status.idle": "2024-05-22T16:18:48.017205Z",
     "shell.execute_reply": "2024-05-22T16:18:48.016333Z"
    },
    "papermill": {
     "duration": 0.110019,
     "end_time": "2024-05-22T16:18:48.019229",
     "exception": false,
     "start_time": "2024-05-22T16:18:47.909210",
     "status": "completed"
    },
    "tags": []
   },
   "outputs": [],
   "source": [
    "class MCDataset(Dataset):\n",
    "    def __init__(self, data, transform : transforms.Compose = None):\n",
    "        # Get a transform pipeline for image.    \n",
    "        if transform: \n",
    "             self.transform = transform \n",
    "        else: \n",
    "            self.transform = A.Compose([ \n",
    "                A.Resize(224, 224), \n",
    "                A.Normalize(mean=[0.485, 0.456, 0.406], std=[0.229, 0.224, 0.225]), \n",
    "                ToTensorV2()\n",
    "                ], \n",
    "                    keypoint_params=A.KeypointParams(format='xy', remove_invisible=False))  \n",
    "        self.data = data\n",
    "\n",
    "    def __getitem__(self, index):\n",
    "        root = '/kaggle/input/2d-3d-retrieval-dataset/wb_2D3Dretrieval_dataset/'\n",
    "        # Anchor image\n",
    "        img_path = root + 'queries/' + self.data.iloc[index].query\n",
    "        img = Image.open(img_path).convert(\"RGB\")\n",
    "        img_tensor = self.transform(img)\n",
    "        # Positive 3d model\n",
    "        label_id = self.data.iloc[index].label[0]\n",
    "\n",
    "        # Negative 3d model (randomly select from the rest of the dataset)\n",
    "        neg_index = np.random.choice(np.delete(np.arange(len(self.data)), index))\n",
    "        neg_label_id = self.data.iloc[neg_index].label[0]\n",
    "        \n",
    "        return img_tensor, database_arr[label_id], database_arr[neg_label_id]\n",
    "\n",
    "    def __len__(self):\n",
    "        return len(self.data)"
   ]
  },
  {
   "cell_type": "code",
   "execution_count": 15,
   "id": "e238ccf1",
   "metadata": {
    "execution": {
     "iopub.execute_input": "2024-05-22T16:18:48.216003Z",
     "iopub.status.busy": "2024-05-22T16:18:48.215092Z",
     "iopub.status.idle": "2024-05-22T16:18:48.222619Z",
     "shell.execute_reply": "2024-05-22T16:18:48.221745Z"
    },
    "papermill": {
     "duration": 0.108368,
     "end_time": "2024-05-22T16:18:48.224823",
     "exception": false,
     "start_time": "2024-05-22T16:18:48.116455",
     "status": "completed"
    },
    "tags": []
   },
   "outputs": [],
   "source": [
    "train_transform = create_transform(224, is_training=True)\n",
    "test_transform = create_transform(224)\n",
    "\n",
    "train_set = MCDataset(train_df, train_transform)\n",
    "test_set = MCDataset(test_df, test_transform)\n",
    "\n",
    "BATCH_SIZE = 32\n",
    "train_dataloader = DataLoader(train_set, batch_size=BATCH_SIZE)\n",
    "test_dataloader = DataLoader(test_set, batch_size=BATCH_SIZE)"
   ]
  },
  {
   "cell_type": "code",
   "execution_count": 16,
   "id": "15b6fb08",
   "metadata": {
    "execution": {
     "iopub.execute_input": "2024-05-22T16:18:48.423202Z",
     "iopub.status.busy": "2024-05-22T16:18:48.422870Z",
     "iopub.status.idle": "2024-05-22T16:18:49.326382Z",
     "shell.execute_reply": "2024-05-22T16:18:49.325087Z"
    },
    "papermill": {
     "duration": 1.003793,
     "end_time": "2024-05-22T16:18:49.328495",
     "exception": false,
     "start_time": "2024-05-22T16:18:48.324702",
     "status": "completed"
    },
    "tags": []
   },
   "outputs": [
    {
     "name": "stdout",
     "output_type": "stream",
     "text": [
      "torch.Size([32, 3, 224, 224]) torch.Size([32, 1024, 3]) torch.Size([32, 1024, 3])\n",
      "torch.Size([32, 3, 224, 224]) torch.Size([32, 1024, 3]) torch.Size([32, 1024, 3])\n"
     ]
    }
   ],
   "source": [
    "for img_tensor, label, neg in train_dataloader:\n",
    "    print(img_tensor.shape, label.shape, neg.shape)\n",
    "    break\n",
    "for img_tensor, label, neg in test_dataloader:\n",
    "    print(img_tensor.shape, label.shape, neg.shape)\n",
    "    break"
   ]
  },
  {
   "cell_type": "markdown",
   "id": "d92b7286",
   "metadata": {
    "papermill": {
     "duration": 0.09667,
     "end_time": "2024-05-22T16:18:49.523919",
     "exception": false,
     "start_time": "2024-05-22T16:18:49.427249",
     "status": "completed"
    },
    "tags": []
   },
   "source": [
    "# 2. Build Model"
   ]
  },
  {
   "cell_type": "code",
   "execution_count": 17,
   "id": "f00844d9",
   "metadata": {
    "execution": {
     "iopub.execute_input": "2024-05-22T16:18:49.718474Z",
     "iopub.status.busy": "2024-05-22T16:18:49.718108Z",
     "iopub.status.idle": "2024-05-22T16:18:49.728222Z",
     "shell.execute_reply": "2024-05-22T16:18:49.727328Z"
    },
    "papermill": {
     "duration": 0.110319,
     "end_time": "2024-05-22T16:18:49.730129",
     "exception": false,
     "start_time": "2024-05-22T16:18:49.619810",
     "status": "completed"
    },
    "tags": []
   },
   "outputs": [],
   "source": [
    "class MCClassifier(nn.Module):\n",
    "\n",
    "    def __init__(self, pc_model, image_model, num_pc_features, num_img_features, dropout=0.5):\n",
    "\n",
    "        super(MCClassifier, self).__init__()\n",
    "\n",
    "        self.img_model = image_model\n",
    "        self.pc_model = pc_model\n",
    "        self.dropout = nn.Dropout(dropout)\n",
    "        self.batch_norm = nn.BatchNorm1d(512)  # Add batch normalization layer\n",
    "        self.relu = nn.ReLU()\n",
    "\n",
    "        # Image MLP\n",
    "        self.lni1 = nn.Linear(num_img_features, 512)\n",
    "        self.lni2 = nn.Linear(512,256)\n",
    "        #self.img_ln = nn.Linear(1280, 1024)\n",
    "        \n",
    "        # Point Cloud MLP\n",
    "        self.lnp1 = nn.Linear(1024, 512)\n",
    "        self.lnp2 = nn.Linear(512,256)\n",
    "     \n",
    "        \n",
    "        # For scaling the point cloud features masp\n",
    "        self.conv1d = nn.Conv1d(1024, 1, kernel_size=1)\n",
    "    def forward(self, image, pc):\n",
    "        # 2D Image\n",
    "        image_features = self.img_model(image)\n",
    "        img_emb = self.dropout(image_features)\n",
    "        img_emb = self.lni1(img_emb)\n",
    "        img_emb = self.batch_norm(img_emb)\n",
    "        img_emb = self.relu(img_emb)\n",
    "        #img_emb = self.lni2(img_emb)\n",
    "        #img_emb = self.relu(img_emb)\n",
    "        \n",
    "        # Point Cloud\n",
    "        pc_features = self.pc_model(pc)\n",
    "        pc_features = self.conv1d(pc_features).squeeze(1)\n",
    "        pc_emb = self.dropout(pc_features)\n",
    "        pc_emb = self.lnp1(pc_emb)\n",
    "        pc_emb = self.batch_norm(pc_emb)  # Apply batch normalization\n",
    "        pc_emb = self.relu(pc_emb)\n",
    "        #pc_emb = self.linear2(out)\n",
    "        #pc_emb = self.relu(out)\n",
    "        \n",
    "\n",
    "        return img_emb, pc_emb"
   ]
  },
  {
   "cell_type": "code",
   "execution_count": 18,
   "id": "dc160719",
   "metadata": {
    "execution": {
     "iopub.execute_input": "2024-05-22T16:18:49.923420Z",
     "iopub.status.busy": "2024-05-22T16:18:49.922771Z",
     "iopub.status.idle": "2024-05-22T16:18:49.928364Z",
     "shell.execute_reply": "2024-05-22T16:18:49.927482Z"
    },
    "papermill": {
     "duration": 0.103449,
     "end_time": "2024-05-22T16:18:49.930071",
     "exception": false,
     "start_time": "2024-05-22T16:18:49.826622",
     "status": "completed"
    },
    "tags": []
   },
   "outputs": [
    {
     "data": {
      "text/plain": [
       "\"dgcnn = DGCNN(emb_dims=1024, input_shape='bnc')\\npnt_cls = Classifier(feature_model=dgcnn)\""
      ]
     },
     "execution_count": 18,
     "metadata": {},
     "output_type": "execute_result"
    }
   ],
   "source": [
    "\"\"\"dgcnn = DGCNN(emb_dims=1024, input_shape='bnc')\n",
    "pnt_cls = Classifier(feature_model=dgcnn)\"\"\""
   ]
  },
  {
   "cell_type": "code",
   "execution_count": 19,
   "id": "3a1b91ba",
   "metadata": {
    "execution": {
     "iopub.execute_input": "2024-05-22T16:18:50.125333Z",
     "iopub.status.busy": "2024-05-22T16:18:50.124569Z",
     "iopub.status.idle": "2024-05-22T16:18:50.976102Z",
     "shell.execute_reply": "2024-05-22T16:18:50.975169Z"
    },
    "papermill": {
     "duration": 0.951148,
     "end_time": "2024-05-22T16:18:50.978092",
     "exception": false,
     "start_time": "2024-05-22T16:18:50.026944",
     "status": "completed"
    },
    "tags": []
   },
   "outputs": [
    {
     "data": {
      "text/plain": [
       "PointNet(\n",
       "  (conv1): Conv1d(3, 64, kernel_size=(1,), stride=(1,))\n",
       "  (conv2): Conv1d(64, 64, kernel_size=(1,), stride=(1,))\n",
       "  (conv3): Conv1d(64, 64, kernel_size=(1,), stride=(1,))\n",
       "  (conv4): Conv1d(64, 128, kernel_size=(1,), stride=(1,))\n",
       "  (conv5): Conv1d(128, 1024, kernel_size=(1,), stride=(1,))\n",
       "  (relu): ReLU()\n",
       "  (bn1): BatchNorm1d(64, eps=1e-05, momentum=0.1, affine=True, track_running_stats=True)\n",
       "  (bn2): BatchNorm1d(64, eps=1e-05, momentum=0.1, affine=True, track_running_stats=True)\n",
       "  (bn3): BatchNorm1d(64, eps=1e-05, momentum=0.1, affine=True, track_running_stats=True)\n",
       "  (bn4): BatchNorm1d(128, eps=1e-05, momentum=0.1, affine=True, track_running_stats=True)\n",
       "  (bn5): BatchNorm1d(1024, eps=1e-05, momentum=0.1, affine=True, track_running_stats=True)\n",
       ")"
      ]
     },
     "execution_count": 19,
     "metadata": {},
     "output_type": "execute_result"
    }
   ],
   "source": [
    "pn = PointNet(emb_dims=1024, use_bn=True)\n",
    "pnt_cls = Classifier(feature_model=pn)\n",
    "pt_path = '/kaggle/input/3d-cls-pretrained-model/pytorch/modelnet40-pt/1/best_model.t7'\n",
    "pnt_cls.load_state_dict(torch.load(pt_path, map_location='cpu'))\n",
    "pc_model = pnt_cls.feature_model\n",
    "pc_model.to('cuda')"
   ]
  },
  {
   "cell_type": "code",
   "execution_count": 20,
   "id": "5681418e",
   "metadata": {
    "execution": {
     "iopub.execute_input": "2024-05-22T16:18:51.174846Z",
     "iopub.status.busy": "2024-05-22T16:18:51.174548Z",
     "iopub.status.idle": "2024-05-22T16:18:51.757852Z",
     "shell.execute_reply": "2024-05-22T16:18:51.756913Z"
    },
    "papermill": {
     "duration": 0.682906,
     "end_time": "2024-05-22T16:18:51.759750",
     "exception": false,
     "start_time": "2024-05-22T16:18:51.076844",
     "status": "completed"
    },
    "tags": []
   },
   "outputs": [
    {
     "data": {
      "application/vnd.jupyter.widget-view+json": {
       "model_id": "e3ad9ea0c49046ea83ae053646de4b2d",
       "version_major": 2,
       "version_minor": 0
      },
      "text/plain": [
       "model.safetensors:   0%|          | 0.00/14.2M [00:00<?, ?B/s]"
      ]
     },
     "metadata": {},
     "output_type": "display_data"
    },
    {
     "name": "stdout",
     "output_type": "stream",
     "text": [
      "CU\n"
     ]
    }
   ],
   "source": [
    "img_model = timm.create_model('mobilenetv2_100', pretrained=True, num_classes = 0).to('cuda')#.get_classifier()\n",
    "img_model.to('cuda')\n",
    "print(\"CU\")"
   ]
  },
  {
   "cell_type": "markdown",
   "id": "ec7b1f41",
   "metadata": {
    "papermill": {
     "duration": 0.097137,
     "end_time": "2024-05-22T16:18:51.954236",
     "exception": false,
     "start_time": "2024-05-22T16:18:51.857099",
     "status": "completed"
    },
    "tags": []
   },
   "source": []
  },
  {
   "cell_type": "code",
   "execution_count": 21,
   "id": "bf0c7e49",
   "metadata": {
    "execution": {
     "iopub.execute_input": "2024-05-22T16:18:52.151881Z",
     "iopub.status.busy": "2024-05-22T16:18:52.151507Z",
     "iopub.status.idle": "2024-05-22T16:18:52.173346Z",
     "shell.execute_reply": "2024-05-22T16:18:52.172613Z"
    },
    "papermill": {
     "duration": 0.122493,
     "end_time": "2024-05-22T16:18:52.175261",
     "exception": false,
     "start_time": "2024-05-22T16:18:52.052768",
     "status": "completed"
    },
    "tags": []
   },
   "outputs": [],
   "source": [
    "model = MCClassifier(pc_model, img_model, 1024 ,img_model.num_features).to('cuda')"
   ]
  },
  {
   "cell_type": "code",
   "execution_count": 22,
   "id": "b0068fbe",
   "metadata": {
    "execution": {
     "iopub.execute_input": "2024-05-22T16:18:52.372476Z",
     "iopub.status.busy": "2024-05-22T16:18:52.372144Z",
     "iopub.status.idle": "2024-05-22T16:18:52.378650Z",
     "shell.execute_reply": "2024-05-22T16:18:52.377709Z"
    },
    "papermill": {
     "duration": 0.106427,
     "end_time": "2024-05-22T16:18:52.380509",
     "exception": false,
     "start_time": "2024-05-22T16:18:52.274082",
     "status": "completed"
    },
    "tags": []
   },
   "outputs": [],
   "source": [
    "from torch.optim import Adam\n",
    "from tqdm import tqdm\n",
    "loss = nn.TripletMarginLoss(margin=1.0)\n",
    "optimizer = Adam(model.parameters(), lr= 1e-4)"
   ]
  },
  {
   "cell_type": "code",
   "execution_count": 23,
   "id": "d4430cd5",
   "metadata": {
    "execution": {
     "iopub.execute_input": "2024-05-22T16:18:52.577932Z",
     "iopub.status.busy": "2024-05-22T16:18:52.576980Z",
     "iopub.status.idle": "2024-05-22T16:18:52.583535Z",
     "shell.execute_reply": "2024-05-22T16:18:52.582669Z"
    },
    "papermill": {
     "duration": 0.108361,
     "end_time": "2024-05-22T16:18:52.585523",
     "exception": false,
     "start_time": "2024-05-22T16:18:52.477162",
     "status": "completed"
    },
    "tags": []
   },
   "outputs": [
    {
     "data": {
      "text/plain": [
       "'pnt_tensor = torch.from_numpy(point_arr).unsqueeze(0).float().to(\\'cuda\\')\\npnt_tensor.shape\\n\\ntest_transform = create_transform(224)\\n\\nimg = Image.open(\\'/kaggle/input/2d-3d-retrieval-dataset/wb_2D3Dretrieval_dataset/queries/0.png\\')\\nimg_tensor = test_transform(img)\\nimg_tensor.shape\\n\\nmodel.eval()\\nprint(\"CI\")\\n\\nfor data in train_dataloader:\\n    model(anchor_img.to(\\'cuda\\').float(), pos_char.to(\\'cuda\\').float())\\n    \\n    break'"
      ]
     },
     "execution_count": 23,
     "metadata": {},
     "output_type": "execute_result"
    }
   ],
   "source": [
    "\"\"\"pnt_tensor = torch.from_numpy(point_arr).unsqueeze(0).float().to('cuda')\n",
    "pnt_tensor.shape\n",
    "\n",
    "test_transform = create_transform(224)\n",
    "\n",
    "img = Image.open('/kaggle/input/2d-3d-retrieval-dataset/wb_2D3Dretrieval_dataset/queries/0.png')\n",
    "img_tensor = test_transform(img)\n",
    "img_tensor.shape\n",
    "\n",
    "model.eval()\n",
    "print(\"CI\")\n",
    "\n",
    "for data in train_dataloader:\n",
    "    model(anchor_img.to('cuda').float(), pos_char.to('cuda').float())\n",
    "    \n",
    "    break\"\"\""
   ]
  },
  {
   "cell_type": "markdown",
   "id": "40d8b931",
   "metadata": {
    "papermill": {
     "duration": 0.098944,
     "end_time": "2024-05-22T16:18:52.782121",
     "exception": false,
     "start_time": "2024-05-22T16:18:52.683177",
     "status": "completed"
    },
    "tags": []
   },
   "source": [
    "# 3. Training "
   ]
  },
  {
   "cell_type": "code",
   "execution_count": 24,
   "id": "215dd59d",
   "metadata": {
    "execution": {
     "iopub.execute_input": "2024-05-22T16:18:52.980235Z",
     "iopub.status.busy": "2024-05-22T16:18:52.979380Z",
     "iopub.status.idle": "2024-05-22T16:18:52.993289Z",
     "shell.execute_reply": "2024-05-22T16:18:52.992446Z"
    },
    "papermill": {
     "duration": 0.11545,
     "end_time": "2024-05-22T16:18:52.995086",
     "exception": false,
     "start_time": "2024-05-22T16:18:52.879636",
     "status": "completed"
    },
    "tags": []
   },
   "outputs": [],
   "source": [
    "def train(model, train_data, val_data, learning_rate, epochs, batch_size):\n",
    "\n",
    "    train_transform = create_transform(224, is_training=True)\n",
    "    test_transform = create_transform(224)\n",
    "    train_set = MCDataset(train_df, train_transform)\n",
    "    test_set = MCDataset(test_df, test_transform)\n",
    "    BATCH_SIZE = batch_size\n",
    "    train_dataloader = DataLoader(train_set, batch_size=BATCH_SIZE)\n",
    "    val_dataloader = DataLoader(test_set, batch_size=BATCH_SIZE)\n",
    "\n",
    "    use_cuda = torch.cuda.is_available()\n",
    "    device = torch.device(\"cuda\" if use_cuda else \"cpu\")\n",
    "\n",
    "    criterion = nn.TripletMarginLoss(margin=1.0)\n",
    "    optimizer = Adam(model.parameters(), lr= learning_rate)\n",
    "    if use_cuda:\n",
    "        model = model.cuda()\n",
    "        criterion = criterion.cuda()\n",
    "    \n",
    "    for epoch_num in range(epochs):\n",
    "\n",
    "        train_loss = []\n",
    "        mrr_train = []\n",
    "        #model.train()\n",
    "        for data in tqdm(train_dataloader):\n",
    "            anchor_img, pos_char, neg_char = data\n",
    "            anchor_feat, pos_feat = model(anchor_img.to('cuda').float(), pos_char.to('cuda').float())\n",
    "            _, neg_feat = model(anchor_img.to('cuda').float(), neg_char.to('cuda').float())\n",
    "\n",
    "            # Calculate triplet loss\n",
    "            batch_loss = criterion(anchor_feat, pos_feat, neg_feat)\n",
    "            train_loss.append(float(batch_loss))\n",
    "\n",
    "            # Backpropagation and update weights\n",
    "            model.zero_grad()\n",
    "            batch_loss.backward()\n",
    "            optimizer.step()\n",
    "            \n",
    "        avg_loss = np.mean(train_loss)\n",
    "        print(\"epoch %2d train end : avg_loss = %.4f\" % (epoch_num+1, avg_loss))\n",
    "        #print(\"epoch %2d train end : avg_acc = %.4f\" % (epoch_num+1, avg_train_acc))\n",
    "\n",
    "        test_loss = []\n",
    "        test_mrr = []\n",
    "        #model.eval()\n",
    "        with torch.no_grad():\n",
    "\n",
    "            for data in tqdm(val_dataloader):\n",
    "\n",
    "                anchor_img, pos_char, neg_char = data\n",
    "                anchor_feat, pos_feat = model(anchor_img.to('cuda').float(), pos_char.to('cuda').float())\n",
    "                _, neg_feat = model(anchor_img.to('cuda').float(), neg_char.to('cuda').float())\n",
    "\n",
    "                batch_loss = criterion(anchor_feat, pos_feat, neg_feat)\n",
    "                test_loss.append(float(batch_loss))\n",
    "\n",
    "                #batch_acc = (output.round() == val_label).float().mean()\n",
    "                #test_acc.append(float(batch_acc))\n",
    "\n",
    "            avg_test_loss = np.mean(test_loss)\n",
    "            #mrr_test = np.mean(test_acc)\n",
    "            print(\"epoch %2d test end : avg_loss = %.4f\" % (epoch_num+1, avg_test_loss))\n",
    "            #print(\"epoch %2d test end : avg_acc = %.4f\" % (epoch_num+1, avg_test_acc))\n",
    "            \n",
    "    torch.save(model, 'retrival_net.ckpt')\n"
   ]
  },
  {
   "cell_type": "code",
   "execution_count": 25,
   "id": "ca577c17",
   "metadata": {
    "execution": {
     "iopub.execute_input": "2024-05-22T16:18:53.193053Z",
     "iopub.status.busy": "2024-05-22T16:18:53.192204Z",
     "iopub.status.idle": "2024-05-22T16:25:14.854037Z",
     "shell.execute_reply": "2024-05-22T16:25:14.853020Z"
    },
    "papermill": {
     "duration": 381.762639,
     "end_time": "2024-05-22T16:25:14.856091",
     "exception": false,
     "start_time": "2024-05-22T16:18:53.093452",
     "status": "completed"
    },
    "tags": []
   },
   "outputs": [
    {
     "name": "stderr",
     "output_type": "stream",
     "text": [
      "100%|██████████| 13/13 [00:04<00:00,  2.63it/s]\n"
     ]
    },
    {
     "name": "stdout",
     "output_type": "stream",
     "text": [
      "epoch  1 train end : avg_loss = 1.2226\n"
     ]
    },
    {
     "name": "stderr",
     "output_type": "stream",
     "text": [
      "100%|██████████| 4/4 [00:00<00:00,  5.19it/s]\n"
     ]
    },
    {
     "name": "stdout",
     "output_type": "stream",
     "text": [
      "epoch  1 test end : avg_loss = 1.2687\n"
     ]
    },
    {
     "name": "stderr",
     "output_type": "stream",
     "text": [
      "100%|██████████| 13/13 [00:03<00:00,  4.19it/s]\n"
     ]
    },
    {
     "name": "stdout",
     "output_type": "stream",
     "text": [
      "epoch  2 train end : avg_loss = 1.1634\n"
     ]
    },
    {
     "name": "stderr",
     "output_type": "stream",
     "text": [
      "100%|██████████| 4/4 [00:00<00:00,  6.18it/s]\n"
     ]
    },
    {
     "name": "stdout",
     "output_type": "stream",
     "text": [
      "epoch  2 test end : avg_loss = 1.4078\n"
     ]
    },
    {
     "name": "stderr",
     "output_type": "stream",
     "text": [
      "100%|██████████| 13/13 [00:03<00:00,  4.19it/s]\n"
     ]
    },
    {
     "name": "stdout",
     "output_type": "stream",
     "text": [
      "epoch  3 train end : avg_loss = 1.0362\n"
     ]
    },
    {
     "name": "stderr",
     "output_type": "stream",
     "text": [
      "100%|██████████| 4/4 [00:00<00:00,  6.19it/s]\n"
     ]
    },
    {
     "name": "stdout",
     "output_type": "stream",
     "text": [
      "epoch  3 test end : avg_loss = 1.0949\n"
     ]
    },
    {
     "name": "stderr",
     "output_type": "stream",
     "text": [
      "100%|██████████| 13/13 [00:03<00:00,  4.26it/s]\n"
     ]
    },
    {
     "name": "stdout",
     "output_type": "stream",
     "text": [
      "epoch  4 train end : avg_loss = 1.0654\n"
     ]
    },
    {
     "name": "stderr",
     "output_type": "stream",
     "text": [
      "100%|██████████| 4/4 [00:00<00:00,  6.16it/s]\n"
     ]
    },
    {
     "name": "stdout",
     "output_type": "stream",
     "text": [
      "epoch  4 test end : avg_loss = 0.9823\n"
     ]
    },
    {
     "name": "stderr",
     "output_type": "stream",
     "text": [
      "100%|██████████| 13/13 [00:03<00:00,  4.18it/s]\n"
     ]
    },
    {
     "name": "stdout",
     "output_type": "stream",
     "text": [
      "epoch  5 train end : avg_loss = 1.0794\n"
     ]
    },
    {
     "name": "stderr",
     "output_type": "stream",
     "text": [
      "100%|██████████| 4/4 [00:00<00:00,  5.99it/s]\n"
     ]
    },
    {
     "name": "stdout",
     "output_type": "stream",
     "text": [
      "epoch  5 test end : avg_loss = 1.0718\n"
     ]
    },
    {
     "name": "stderr",
     "output_type": "stream",
     "text": [
      "100%|██████████| 13/13 [00:03<00:00,  4.23it/s]\n"
     ]
    },
    {
     "name": "stdout",
     "output_type": "stream",
     "text": [
      "epoch  6 train end : avg_loss = 1.0874\n"
     ]
    },
    {
     "name": "stderr",
     "output_type": "stream",
     "text": [
      "100%|██████████| 4/4 [00:00<00:00,  6.18it/s]\n"
     ]
    },
    {
     "name": "stdout",
     "output_type": "stream",
     "text": [
      "epoch  6 test end : avg_loss = 1.1070\n"
     ]
    },
    {
     "name": "stderr",
     "output_type": "stream",
     "text": [
      "100%|██████████| 13/13 [00:03<00:00,  4.09it/s]\n"
     ]
    },
    {
     "name": "stdout",
     "output_type": "stream",
     "text": [
      "epoch  7 train end : avg_loss = 1.0357\n"
     ]
    },
    {
     "name": "stderr",
     "output_type": "stream",
     "text": [
      "100%|██████████| 4/4 [00:00<00:00,  6.19it/s]\n"
     ]
    },
    {
     "name": "stdout",
     "output_type": "stream",
     "text": [
      "epoch  7 test end : avg_loss = 1.1051\n"
     ]
    },
    {
     "name": "stderr",
     "output_type": "stream",
     "text": [
      "100%|██████████| 13/13 [00:03<00:00,  4.23it/s]\n"
     ]
    },
    {
     "name": "stdout",
     "output_type": "stream",
     "text": [
      "epoch  8 train end : avg_loss = 1.0230\n"
     ]
    },
    {
     "name": "stderr",
     "output_type": "stream",
     "text": [
      "100%|██████████| 4/4 [00:00<00:00,  6.13it/s]\n"
     ]
    },
    {
     "name": "stdout",
     "output_type": "stream",
     "text": [
      "epoch  8 test end : avg_loss = 1.2766\n"
     ]
    },
    {
     "name": "stderr",
     "output_type": "stream",
     "text": [
      "100%|██████████| 13/13 [00:03<00:00,  4.17it/s]\n"
     ]
    },
    {
     "name": "stdout",
     "output_type": "stream",
     "text": [
      "epoch  9 train end : avg_loss = 0.9756\n"
     ]
    },
    {
     "name": "stderr",
     "output_type": "stream",
     "text": [
      "100%|██████████| 4/4 [00:00<00:00,  6.08it/s]\n"
     ]
    },
    {
     "name": "stdout",
     "output_type": "stream",
     "text": [
      "epoch  9 test end : avg_loss = 1.0777\n"
     ]
    },
    {
     "name": "stderr",
     "output_type": "stream",
     "text": [
      "100%|██████████| 13/13 [00:03<00:00,  4.17it/s]\n"
     ]
    },
    {
     "name": "stdout",
     "output_type": "stream",
     "text": [
      "epoch 10 train end : avg_loss = 0.9158\n"
     ]
    },
    {
     "name": "stderr",
     "output_type": "stream",
     "text": [
      "100%|██████████| 4/4 [00:00<00:00,  6.18it/s]\n"
     ]
    },
    {
     "name": "stdout",
     "output_type": "stream",
     "text": [
      "epoch 10 test end : avg_loss = 1.0347\n"
     ]
    },
    {
     "name": "stderr",
     "output_type": "stream",
     "text": [
      "100%|██████████| 13/13 [00:03<00:00,  4.09it/s]\n"
     ]
    },
    {
     "name": "stdout",
     "output_type": "stream",
     "text": [
      "epoch 11 train end : avg_loss = 1.0388\n"
     ]
    },
    {
     "name": "stderr",
     "output_type": "stream",
     "text": [
      "100%|██████████| 4/4 [00:00<00:00,  5.87it/s]\n"
     ]
    },
    {
     "name": "stdout",
     "output_type": "stream",
     "text": [
      "epoch 11 test end : avg_loss = 1.1930\n"
     ]
    },
    {
     "name": "stderr",
     "output_type": "stream",
     "text": [
      "100%|██████████| 13/13 [00:03<00:00,  4.20it/s]\n"
     ]
    },
    {
     "name": "stdout",
     "output_type": "stream",
     "text": [
      "epoch 12 train end : avg_loss = 0.9522\n"
     ]
    },
    {
     "name": "stderr",
     "output_type": "stream",
     "text": [
      "100%|██████████| 4/4 [00:00<00:00,  5.72it/s]\n"
     ]
    },
    {
     "name": "stdout",
     "output_type": "stream",
     "text": [
      "epoch 12 test end : avg_loss = 1.3454\n"
     ]
    },
    {
     "name": "stderr",
     "output_type": "stream",
     "text": [
      "100%|██████████| 13/13 [00:03<00:00,  4.06it/s]\n"
     ]
    },
    {
     "name": "stdout",
     "output_type": "stream",
     "text": [
      "epoch 13 train end : avg_loss = 0.9522\n"
     ]
    },
    {
     "name": "stderr",
     "output_type": "stream",
     "text": [
      "100%|██████████| 4/4 [00:00<00:00,  6.10it/s]\n"
     ]
    },
    {
     "name": "stdout",
     "output_type": "stream",
     "text": [
      "epoch 13 test end : avg_loss = 1.2332\n"
     ]
    },
    {
     "name": "stderr",
     "output_type": "stream",
     "text": [
      "100%|██████████| 13/13 [00:03<00:00,  4.15it/s]\n"
     ]
    },
    {
     "name": "stdout",
     "output_type": "stream",
     "text": [
      "epoch 14 train end : avg_loss = 0.8593\n"
     ]
    },
    {
     "name": "stderr",
     "output_type": "stream",
     "text": [
      "100%|██████████| 4/4 [00:00<00:00,  6.08it/s]\n"
     ]
    },
    {
     "name": "stdout",
     "output_type": "stream",
     "text": [
      "epoch 14 test end : avg_loss = 1.0078\n"
     ]
    },
    {
     "name": "stderr",
     "output_type": "stream",
     "text": [
      "100%|██████████| 13/13 [00:03<00:00,  4.10it/s]\n"
     ]
    },
    {
     "name": "stdout",
     "output_type": "stream",
     "text": [
      "epoch 15 train end : avg_loss = 0.8727\n"
     ]
    },
    {
     "name": "stderr",
     "output_type": "stream",
     "text": [
      "100%|██████████| 4/4 [00:00<00:00,  6.07it/s]\n"
     ]
    },
    {
     "name": "stdout",
     "output_type": "stream",
     "text": [
      "epoch 15 test end : avg_loss = 1.1315\n"
     ]
    },
    {
     "name": "stderr",
     "output_type": "stream",
     "text": [
      "100%|██████████| 13/13 [00:03<00:00,  4.21it/s]\n"
     ]
    },
    {
     "name": "stdout",
     "output_type": "stream",
     "text": [
      "epoch 16 train end : avg_loss = 0.8939\n"
     ]
    },
    {
     "name": "stderr",
     "output_type": "stream",
     "text": [
      "100%|██████████| 4/4 [00:00<00:00,  5.88it/s]\n"
     ]
    },
    {
     "name": "stdout",
     "output_type": "stream",
     "text": [
      "epoch 16 test end : avg_loss = 1.1483\n"
     ]
    },
    {
     "name": "stderr",
     "output_type": "stream",
     "text": [
      "100%|██████████| 13/13 [00:03<00:00,  4.00it/s]\n"
     ]
    },
    {
     "name": "stdout",
     "output_type": "stream",
     "text": [
      "epoch 17 train end : avg_loss = 0.8603\n"
     ]
    },
    {
     "name": "stderr",
     "output_type": "stream",
     "text": [
      "100%|██████████| 4/4 [00:00<00:00,  6.09it/s]\n"
     ]
    },
    {
     "name": "stdout",
     "output_type": "stream",
     "text": [
      "epoch 17 test end : avg_loss = 1.3898\n"
     ]
    },
    {
     "name": "stderr",
     "output_type": "stream",
     "text": [
      "100%|██████████| 13/13 [00:03<00:00,  4.15it/s]\n"
     ]
    },
    {
     "name": "stdout",
     "output_type": "stream",
     "text": [
      "epoch 18 train end : avg_loss = 0.8587\n"
     ]
    },
    {
     "name": "stderr",
     "output_type": "stream",
     "text": [
      "100%|██████████| 4/4 [00:00<00:00,  6.16it/s]\n"
     ]
    },
    {
     "name": "stdout",
     "output_type": "stream",
     "text": [
      "epoch 18 test end : avg_loss = 1.0335\n"
     ]
    },
    {
     "name": "stderr",
     "output_type": "stream",
     "text": [
      "100%|██████████| 13/13 [00:03<00:00,  4.18it/s]\n"
     ]
    },
    {
     "name": "stdout",
     "output_type": "stream",
     "text": [
      "epoch 19 train end : avg_loss = 0.8403\n"
     ]
    },
    {
     "name": "stderr",
     "output_type": "stream",
     "text": [
      "100%|██████████| 4/4 [00:00<00:00,  6.12it/s]\n"
     ]
    },
    {
     "name": "stdout",
     "output_type": "stream",
     "text": [
      "epoch 19 test end : avg_loss = 0.9101\n"
     ]
    },
    {
     "name": "stderr",
     "output_type": "stream",
     "text": [
      "100%|██████████| 13/13 [00:03<00:00,  4.15it/s]\n"
     ]
    },
    {
     "name": "stdout",
     "output_type": "stream",
     "text": [
      "epoch 20 train end : avg_loss = 0.7121\n"
     ]
    },
    {
     "name": "stderr",
     "output_type": "stream",
     "text": [
      "100%|██████████| 4/4 [00:00<00:00,  6.18it/s]\n"
     ]
    },
    {
     "name": "stdout",
     "output_type": "stream",
     "text": [
      "epoch 20 test end : avg_loss = 0.9232\n"
     ]
    },
    {
     "name": "stderr",
     "output_type": "stream",
     "text": [
      "100%|██████████| 13/13 [00:03<00:00,  4.11it/s]\n"
     ]
    },
    {
     "name": "stdout",
     "output_type": "stream",
     "text": [
      "epoch 21 train end : avg_loss = 0.9332\n"
     ]
    },
    {
     "name": "stderr",
     "output_type": "stream",
     "text": [
      "100%|██████████| 4/4 [00:00<00:00,  6.05it/s]\n"
     ]
    },
    {
     "name": "stdout",
     "output_type": "stream",
     "text": [
      "epoch 21 test end : avg_loss = 1.0149\n"
     ]
    },
    {
     "name": "stderr",
     "output_type": "stream",
     "text": [
      "100%|██████████| 13/13 [00:03<00:00,  4.21it/s]\n"
     ]
    },
    {
     "name": "stdout",
     "output_type": "stream",
     "text": [
      "epoch 22 train end : avg_loss = 0.8430\n"
     ]
    },
    {
     "name": "stderr",
     "output_type": "stream",
     "text": [
      "100%|██████████| 4/4 [00:00<00:00,  6.17it/s]\n"
     ]
    },
    {
     "name": "stdout",
     "output_type": "stream",
     "text": [
      "epoch 22 test end : avg_loss = 0.8285\n"
     ]
    },
    {
     "name": "stderr",
     "output_type": "stream",
     "text": [
      "100%|██████████| 13/13 [00:03<00:00,  4.18it/s]\n"
     ]
    },
    {
     "name": "stdout",
     "output_type": "stream",
     "text": [
      "epoch 23 train end : avg_loss = 0.8027\n"
     ]
    },
    {
     "name": "stderr",
     "output_type": "stream",
     "text": [
      "100%|██████████| 4/4 [00:00<00:00,  5.44it/s]\n"
     ]
    },
    {
     "name": "stdout",
     "output_type": "stream",
     "text": [
      "epoch 23 test end : avg_loss = 1.1782\n"
     ]
    },
    {
     "name": "stderr",
     "output_type": "stream",
     "text": [
      "100%|██████████| 13/13 [00:03<00:00,  4.13it/s]\n"
     ]
    },
    {
     "name": "stdout",
     "output_type": "stream",
     "text": [
      "epoch 24 train end : avg_loss = 0.7824\n"
     ]
    },
    {
     "name": "stderr",
     "output_type": "stream",
     "text": [
      "100%|██████████| 4/4 [00:00<00:00,  5.80it/s]\n"
     ]
    },
    {
     "name": "stdout",
     "output_type": "stream",
     "text": [
      "epoch 24 test end : avg_loss = 0.7951\n"
     ]
    },
    {
     "name": "stderr",
     "output_type": "stream",
     "text": [
      "100%|██████████| 13/13 [00:03<00:00,  3.99it/s]\n"
     ]
    },
    {
     "name": "stdout",
     "output_type": "stream",
     "text": [
      "epoch 25 train end : avg_loss = 0.7412\n"
     ]
    },
    {
     "name": "stderr",
     "output_type": "stream",
     "text": [
      "100%|██████████| 4/4 [00:00<00:00,  5.90it/s]\n"
     ]
    },
    {
     "name": "stdout",
     "output_type": "stream",
     "text": [
      "epoch 25 test end : avg_loss = 1.1582\n"
     ]
    },
    {
     "name": "stderr",
     "output_type": "stream",
     "text": [
      "100%|██████████| 13/13 [00:03<00:00,  4.04it/s]\n"
     ]
    },
    {
     "name": "stdout",
     "output_type": "stream",
     "text": [
      "epoch 26 train end : avg_loss = 0.6316\n"
     ]
    },
    {
     "name": "stderr",
     "output_type": "stream",
     "text": [
      "100%|██████████| 4/4 [00:00<00:00,  6.02it/s]\n"
     ]
    },
    {
     "name": "stdout",
     "output_type": "stream",
     "text": [
      "epoch 26 test end : avg_loss = 0.8456\n"
     ]
    },
    {
     "name": "stderr",
     "output_type": "stream",
     "text": [
      "100%|██████████| 13/13 [00:03<00:00,  4.08it/s]\n"
     ]
    },
    {
     "name": "stdout",
     "output_type": "stream",
     "text": [
      "epoch 27 train end : avg_loss = 0.7230\n"
     ]
    },
    {
     "name": "stderr",
     "output_type": "stream",
     "text": [
      "100%|██████████| 4/4 [00:00<00:00,  6.22it/s]\n"
     ]
    },
    {
     "name": "stdout",
     "output_type": "stream",
     "text": [
      "epoch 27 test end : avg_loss = 1.0988\n"
     ]
    },
    {
     "name": "stderr",
     "output_type": "stream",
     "text": [
      "100%|██████████| 13/13 [00:03<00:00,  4.24it/s]\n"
     ]
    },
    {
     "name": "stdout",
     "output_type": "stream",
     "text": [
      "epoch 28 train end : avg_loss = 0.8070\n"
     ]
    },
    {
     "name": "stderr",
     "output_type": "stream",
     "text": [
      "100%|██████████| 4/4 [00:00<00:00,  6.14it/s]\n"
     ]
    },
    {
     "name": "stdout",
     "output_type": "stream",
     "text": [
      "epoch 28 test end : avg_loss = 1.2493\n"
     ]
    },
    {
     "name": "stderr",
     "output_type": "stream",
     "text": [
      "100%|██████████| 13/13 [00:03<00:00,  4.27it/s]\n"
     ]
    },
    {
     "name": "stdout",
     "output_type": "stream",
     "text": [
      "epoch 29 train end : avg_loss = 0.6393\n"
     ]
    },
    {
     "name": "stderr",
     "output_type": "stream",
     "text": [
      "100%|██████████| 4/4 [00:00<00:00,  6.18it/s]\n"
     ]
    },
    {
     "name": "stdout",
     "output_type": "stream",
     "text": [
      "epoch 29 test end : avg_loss = 1.0730\n"
     ]
    },
    {
     "name": "stderr",
     "output_type": "stream",
     "text": [
      "100%|██████████| 13/13 [00:03<00:00,  4.21it/s]\n"
     ]
    },
    {
     "name": "stdout",
     "output_type": "stream",
     "text": [
      "epoch 30 train end : avg_loss = 0.6059\n"
     ]
    },
    {
     "name": "stderr",
     "output_type": "stream",
     "text": [
      "100%|██████████| 4/4 [00:00<00:00,  6.11it/s]\n"
     ]
    },
    {
     "name": "stdout",
     "output_type": "stream",
     "text": [
      "epoch 30 test end : avg_loss = 0.9054\n"
     ]
    },
    {
     "name": "stderr",
     "output_type": "stream",
     "text": [
      "100%|██████████| 13/13 [00:03<00:00,  4.26it/s]\n"
     ]
    },
    {
     "name": "stdout",
     "output_type": "stream",
     "text": [
      "epoch 31 train end : avg_loss = 0.6566\n"
     ]
    },
    {
     "name": "stderr",
     "output_type": "stream",
     "text": [
      "100%|██████████| 4/4 [00:00<00:00,  6.08it/s]\n"
     ]
    },
    {
     "name": "stdout",
     "output_type": "stream",
     "text": [
      "epoch 31 test end : avg_loss = 1.1254\n"
     ]
    },
    {
     "name": "stderr",
     "output_type": "stream",
     "text": [
      "100%|██████████| 13/13 [00:03<00:00,  4.04it/s]\n"
     ]
    },
    {
     "name": "stdout",
     "output_type": "stream",
     "text": [
      "epoch 32 train end : avg_loss = 0.5442\n"
     ]
    },
    {
     "name": "stderr",
     "output_type": "stream",
     "text": [
      "100%|██████████| 4/4 [00:00<00:00,  6.14it/s]\n"
     ]
    },
    {
     "name": "stdout",
     "output_type": "stream",
     "text": [
      "epoch 32 test end : avg_loss = 0.8338\n"
     ]
    },
    {
     "name": "stderr",
     "output_type": "stream",
     "text": [
      "100%|██████████| 13/13 [00:03<00:00,  4.23it/s]\n"
     ]
    },
    {
     "name": "stdout",
     "output_type": "stream",
     "text": [
      "epoch 33 train end : avg_loss = 0.5404\n"
     ]
    },
    {
     "name": "stderr",
     "output_type": "stream",
     "text": [
      "100%|██████████| 4/4 [00:00<00:00,  6.02it/s]\n"
     ]
    },
    {
     "name": "stdout",
     "output_type": "stream",
     "text": [
      "epoch 33 test end : avg_loss = 0.9101\n"
     ]
    },
    {
     "name": "stderr",
     "output_type": "stream",
     "text": [
      "100%|██████████| 13/13 [00:03<00:00,  4.15it/s]\n"
     ]
    },
    {
     "name": "stdout",
     "output_type": "stream",
     "text": [
      "epoch 34 train end : avg_loss = 0.4922\n"
     ]
    },
    {
     "name": "stderr",
     "output_type": "stream",
     "text": [
      "100%|██████████| 4/4 [00:00<00:00,  6.08it/s]\n"
     ]
    },
    {
     "name": "stdout",
     "output_type": "stream",
     "text": [
      "epoch 34 test end : avg_loss = 0.7864\n"
     ]
    },
    {
     "name": "stderr",
     "output_type": "stream",
     "text": [
      "100%|██████████| 13/13 [00:03<00:00,  4.12it/s]\n"
     ]
    },
    {
     "name": "stdout",
     "output_type": "stream",
     "text": [
      "epoch 35 train end : avg_loss = 0.5640\n"
     ]
    },
    {
     "name": "stderr",
     "output_type": "stream",
     "text": [
      "100%|██████████| 4/4 [00:00<00:00,  6.09it/s]\n"
     ]
    },
    {
     "name": "stdout",
     "output_type": "stream",
     "text": [
      "epoch 35 test end : avg_loss = 1.0579\n"
     ]
    },
    {
     "name": "stderr",
     "output_type": "stream",
     "text": [
      "100%|██████████| 13/13 [00:03<00:00,  4.14it/s]\n"
     ]
    },
    {
     "name": "stdout",
     "output_type": "stream",
     "text": [
      "epoch 36 train end : avg_loss = 0.4045\n"
     ]
    },
    {
     "name": "stderr",
     "output_type": "stream",
     "text": [
      "100%|██████████| 4/4 [00:00<00:00,  5.97it/s]\n"
     ]
    },
    {
     "name": "stdout",
     "output_type": "stream",
     "text": [
      "epoch 36 test end : avg_loss = 0.8905\n"
     ]
    },
    {
     "name": "stderr",
     "output_type": "stream",
     "text": [
      "100%|██████████| 13/13 [00:03<00:00,  4.14it/s]\n"
     ]
    },
    {
     "name": "stdout",
     "output_type": "stream",
     "text": [
      "epoch 37 train end : avg_loss = 0.5191\n"
     ]
    },
    {
     "name": "stderr",
     "output_type": "stream",
     "text": [
      "100%|██████████| 4/4 [00:00<00:00,  6.04it/s]\n"
     ]
    },
    {
     "name": "stdout",
     "output_type": "stream",
     "text": [
      "epoch 37 test end : avg_loss = 0.9691\n"
     ]
    },
    {
     "name": "stderr",
     "output_type": "stream",
     "text": [
      "100%|██████████| 13/13 [00:03<00:00,  4.21it/s]\n"
     ]
    },
    {
     "name": "stdout",
     "output_type": "stream",
     "text": [
      "epoch 38 train end : avg_loss = 0.4959\n"
     ]
    },
    {
     "name": "stderr",
     "output_type": "stream",
     "text": [
      "100%|██████████| 4/4 [00:00<00:00,  6.00it/s]\n"
     ]
    },
    {
     "name": "stdout",
     "output_type": "stream",
     "text": [
      "epoch 38 test end : avg_loss = 1.3037\n"
     ]
    },
    {
     "name": "stderr",
     "output_type": "stream",
     "text": [
      "100%|██████████| 13/13 [00:03<00:00,  4.22it/s]\n"
     ]
    },
    {
     "name": "stdout",
     "output_type": "stream",
     "text": [
      "epoch 39 train end : avg_loss = 0.4837\n"
     ]
    },
    {
     "name": "stderr",
     "output_type": "stream",
     "text": [
      "100%|██████████| 4/4 [00:00<00:00,  6.07it/s]\n"
     ]
    },
    {
     "name": "stdout",
     "output_type": "stream",
     "text": [
      "epoch 39 test end : avg_loss = 1.2149\n"
     ]
    },
    {
     "name": "stderr",
     "output_type": "stream",
     "text": [
      "100%|██████████| 13/13 [00:03<00:00,  3.94it/s]\n"
     ]
    },
    {
     "name": "stdout",
     "output_type": "stream",
     "text": [
      "epoch 40 train end : avg_loss = 0.3946\n"
     ]
    },
    {
     "name": "stderr",
     "output_type": "stream",
     "text": [
      "100%|██████████| 4/4 [00:00<00:00,  6.09it/s]\n"
     ]
    },
    {
     "name": "stdout",
     "output_type": "stream",
     "text": [
      "epoch 40 test end : avg_loss = 0.9653\n"
     ]
    },
    {
     "name": "stderr",
     "output_type": "stream",
     "text": [
      "100%|██████████| 13/13 [00:03<00:00,  4.21it/s]\n"
     ]
    },
    {
     "name": "stdout",
     "output_type": "stream",
     "text": [
      "epoch 41 train end : avg_loss = 0.4262\n"
     ]
    },
    {
     "name": "stderr",
     "output_type": "stream",
     "text": [
      "100%|██████████| 4/4 [00:00<00:00,  6.14it/s]\n"
     ]
    },
    {
     "name": "stdout",
     "output_type": "stream",
     "text": [
      "epoch 41 test end : avg_loss = 0.9306\n"
     ]
    },
    {
     "name": "stderr",
     "output_type": "stream",
     "text": [
      "100%|██████████| 13/13 [00:03<00:00,  4.22it/s]\n"
     ]
    },
    {
     "name": "stdout",
     "output_type": "stream",
     "text": [
      "epoch 42 train end : avg_loss = 0.3831\n"
     ]
    },
    {
     "name": "stderr",
     "output_type": "stream",
     "text": [
      "100%|██████████| 4/4 [00:00<00:00,  6.20it/s]\n"
     ]
    },
    {
     "name": "stdout",
     "output_type": "stream",
     "text": [
      "epoch 42 test end : avg_loss = 0.9248\n"
     ]
    },
    {
     "name": "stderr",
     "output_type": "stream",
     "text": [
      "100%|██████████| 13/13 [00:03<00:00,  4.16it/s]\n"
     ]
    },
    {
     "name": "stdout",
     "output_type": "stream",
     "text": [
      "epoch 43 train end : avg_loss = 0.4851\n"
     ]
    },
    {
     "name": "stderr",
     "output_type": "stream",
     "text": [
      "100%|██████████| 4/4 [00:00<00:00,  6.18it/s]\n"
     ]
    },
    {
     "name": "stdout",
     "output_type": "stream",
     "text": [
      "epoch 43 test end : avg_loss = 0.9755\n"
     ]
    },
    {
     "name": "stderr",
     "output_type": "stream",
     "text": [
      "100%|██████████| 13/13 [00:03<00:00,  4.21it/s]\n"
     ]
    },
    {
     "name": "stdout",
     "output_type": "stream",
     "text": [
      "epoch 44 train end : avg_loss = 0.3980\n"
     ]
    },
    {
     "name": "stderr",
     "output_type": "stream",
     "text": [
      "100%|██████████| 4/4 [00:00<00:00,  6.27it/s]\n"
     ]
    },
    {
     "name": "stdout",
     "output_type": "stream",
     "text": [
      "epoch 44 test end : avg_loss = 1.1538\n"
     ]
    },
    {
     "name": "stderr",
     "output_type": "stream",
     "text": [
      "100%|██████████| 13/13 [00:03<00:00,  4.25it/s]\n"
     ]
    },
    {
     "name": "stdout",
     "output_type": "stream",
     "text": [
      "epoch 45 train end : avg_loss = 0.3875\n"
     ]
    },
    {
     "name": "stderr",
     "output_type": "stream",
     "text": [
      "100%|██████████| 4/4 [00:00<00:00,  5.96it/s]\n"
     ]
    },
    {
     "name": "stdout",
     "output_type": "stream",
     "text": [
      "epoch 45 test end : avg_loss = 1.1447\n"
     ]
    },
    {
     "name": "stderr",
     "output_type": "stream",
     "text": [
      "100%|██████████| 13/13 [00:03<00:00,  4.17it/s]\n"
     ]
    },
    {
     "name": "stdout",
     "output_type": "stream",
     "text": [
      "epoch 46 train end : avg_loss = 0.4003\n"
     ]
    },
    {
     "name": "stderr",
     "output_type": "stream",
     "text": [
      "100%|██████████| 4/4 [00:00<00:00,  6.06it/s]\n"
     ]
    },
    {
     "name": "stdout",
     "output_type": "stream",
     "text": [
      "epoch 46 test end : avg_loss = 0.8709\n"
     ]
    },
    {
     "name": "stderr",
     "output_type": "stream",
     "text": [
      "100%|██████████| 13/13 [00:03<00:00,  4.15it/s]\n"
     ]
    },
    {
     "name": "stdout",
     "output_type": "stream",
     "text": [
      "epoch 47 train end : avg_loss = 0.3232\n"
     ]
    },
    {
     "name": "stderr",
     "output_type": "stream",
     "text": [
      "100%|██████████| 4/4 [00:00<00:00,  6.05it/s]\n"
     ]
    },
    {
     "name": "stdout",
     "output_type": "stream",
     "text": [
      "epoch 47 test end : avg_loss = 0.8283\n"
     ]
    },
    {
     "name": "stderr",
     "output_type": "stream",
     "text": [
      "100%|██████████| 13/13 [00:03<00:00,  3.86it/s]\n"
     ]
    },
    {
     "name": "stdout",
     "output_type": "stream",
     "text": [
      "epoch 48 train end : avg_loss = 0.3145\n"
     ]
    },
    {
     "name": "stderr",
     "output_type": "stream",
     "text": [
      "100%|██████████| 4/4 [00:00<00:00,  6.25it/s]\n"
     ]
    },
    {
     "name": "stdout",
     "output_type": "stream",
     "text": [
      "epoch 48 test end : avg_loss = 0.7538\n"
     ]
    },
    {
     "name": "stderr",
     "output_type": "stream",
     "text": [
      "100%|██████████| 13/13 [00:03<00:00,  4.23it/s]\n"
     ]
    },
    {
     "name": "stdout",
     "output_type": "stream",
     "text": [
      "epoch 49 train end : avg_loss = 0.2659\n"
     ]
    },
    {
     "name": "stderr",
     "output_type": "stream",
     "text": [
      "100%|██████████| 4/4 [00:00<00:00,  6.13it/s]\n"
     ]
    },
    {
     "name": "stdout",
     "output_type": "stream",
     "text": [
      "epoch 49 test end : avg_loss = 0.9829\n"
     ]
    },
    {
     "name": "stderr",
     "output_type": "stream",
     "text": [
      "100%|██████████| 13/13 [00:03<00:00,  4.21it/s]\n"
     ]
    },
    {
     "name": "stdout",
     "output_type": "stream",
     "text": [
      "epoch 50 train end : avg_loss = 0.3311\n"
     ]
    },
    {
     "name": "stderr",
     "output_type": "stream",
     "text": [
      "100%|██████████| 4/4 [00:00<00:00,  6.09it/s]\n"
     ]
    },
    {
     "name": "stdout",
     "output_type": "stream",
     "text": [
      "epoch 50 test end : avg_loss = 1.0830\n"
     ]
    },
    {
     "name": "stderr",
     "output_type": "stream",
     "text": [
      "100%|██████████| 13/13 [00:03<00:00,  4.16it/s]\n"
     ]
    },
    {
     "name": "stdout",
     "output_type": "stream",
     "text": [
      "epoch 51 train end : avg_loss = 0.2902\n"
     ]
    },
    {
     "name": "stderr",
     "output_type": "stream",
     "text": [
      "100%|██████████| 4/4 [00:00<00:00,  5.93it/s]\n"
     ]
    },
    {
     "name": "stdout",
     "output_type": "stream",
     "text": [
      "epoch 51 test end : avg_loss = 0.7825\n"
     ]
    },
    {
     "name": "stderr",
     "output_type": "stream",
     "text": [
      "100%|██████████| 13/13 [00:03<00:00,  4.17it/s]\n"
     ]
    },
    {
     "name": "stdout",
     "output_type": "stream",
     "text": [
      "epoch 52 train end : avg_loss = 0.3128\n"
     ]
    },
    {
     "name": "stderr",
     "output_type": "stream",
     "text": [
      "100%|██████████| 4/4 [00:00<00:00,  6.18it/s]\n"
     ]
    },
    {
     "name": "stdout",
     "output_type": "stream",
     "text": [
      "epoch 52 test end : avg_loss = 1.0217\n"
     ]
    },
    {
     "name": "stderr",
     "output_type": "stream",
     "text": [
      "100%|██████████| 13/13 [00:03<00:00,  4.20it/s]\n"
     ]
    },
    {
     "name": "stdout",
     "output_type": "stream",
     "text": [
      "epoch 53 train end : avg_loss = 0.3520\n"
     ]
    },
    {
     "name": "stderr",
     "output_type": "stream",
     "text": [
      "100%|██████████| 4/4 [00:00<00:00,  5.94it/s]\n"
     ]
    },
    {
     "name": "stdout",
     "output_type": "stream",
     "text": [
      "epoch 53 test end : avg_loss = 0.9105\n"
     ]
    },
    {
     "name": "stderr",
     "output_type": "stream",
     "text": [
      "100%|██████████| 13/13 [00:03<00:00,  4.26it/s]\n"
     ]
    },
    {
     "name": "stdout",
     "output_type": "stream",
     "text": [
      "epoch 54 train end : avg_loss = 0.3496\n"
     ]
    },
    {
     "name": "stderr",
     "output_type": "stream",
     "text": [
      "100%|██████████| 4/4 [00:00<00:00,  6.25it/s]\n"
     ]
    },
    {
     "name": "stdout",
     "output_type": "stream",
     "text": [
      "epoch 54 test end : avg_loss = 1.1782\n"
     ]
    },
    {
     "name": "stderr",
     "output_type": "stream",
     "text": [
      "100%|██████████| 13/13 [00:03<00:00,  4.22it/s]\n"
     ]
    },
    {
     "name": "stdout",
     "output_type": "stream",
     "text": [
      "epoch 55 train end : avg_loss = 0.2921\n"
     ]
    },
    {
     "name": "stderr",
     "output_type": "stream",
     "text": [
      "100%|██████████| 4/4 [00:00<00:00,  6.11it/s]\n"
     ]
    },
    {
     "name": "stdout",
     "output_type": "stream",
     "text": [
      "epoch 55 test end : avg_loss = 1.0424\n"
     ]
    },
    {
     "name": "stderr",
     "output_type": "stream",
     "text": [
      "100%|██████████| 13/13 [00:03<00:00,  4.11it/s]\n"
     ]
    },
    {
     "name": "stdout",
     "output_type": "stream",
     "text": [
      "epoch 56 train end : avg_loss = 0.1746\n"
     ]
    },
    {
     "name": "stderr",
     "output_type": "stream",
     "text": [
      "100%|██████████| 4/4 [00:00<00:00,  5.30it/s]\n"
     ]
    },
    {
     "name": "stdout",
     "output_type": "stream",
     "text": [
      "epoch 56 test end : avg_loss = 0.7791\n"
     ]
    },
    {
     "name": "stderr",
     "output_type": "stream",
     "text": [
      "100%|██████████| 13/13 [00:03<00:00,  4.00it/s]\n"
     ]
    },
    {
     "name": "stdout",
     "output_type": "stream",
     "text": [
      "epoch 57 train end : avg_loss = 0.3169\n"
     ]
    },
    {
     "name": "stderr",
     "output_type": "stream",
     "text": [
      "100%|██████████| 4/4 [00:00<00:00,  5.86it/s]\n"
     ]
    },
    {
     "name": "stdout",
     "output_type": "stream",
     "text": [
      "epoch 57 test end : avg_loss = 0.9020\n"
     ]
    },
    {
     "name": "stderr",
     "output_type": "stream",
     "text": [
      "100%|██████████| 13/13 [00:03<00:00,  4.20it/s]\n"
     ]
    },
    {
     "name": "stdout",
     "output_type": "stream",
     "text": [
      "epoch 58 train end : avg_loss = 0.2607\n"
     ]
    },
    {
     "name": "stderr",
     "output_type": "stream",
     "text": [
      "100%|██████████| 4/4 [00:00<00:00,  5.70it/s]\n"
     ]
    },
    {
     "name": "stdout",
     "output_type": "stream",
     "text": [
      "epoch 58 test end : avg_loss = 1.2584\n"
     ]
    },
    {
     "name": "stderr",
     "output_type": "stream",
     "text": [
      "100%|██████████| 13/13 [00:03<00:00,  4.12it/s]\n"
     ]
    },
    {
     "name": "stdout",
     "output_type": "stream",
     "text": [
      "epoch 59 train end : avg_loss = 0.2424\n"
     ]
    },
    {
     "name": "stderr",
     "output_type": "stream",
     "text": [
      "100%|██████████| 4/4 [00:00<00:00,  6.01it/s]\n"
     ]
    },
    {
     "name": "stdout",
     "output_type": "stream",
     "text": [
      "epoch 59 test end : avg_loss = 1.1773\n"
     ]
    },
    {
     "name": "stderr",
     "output_type": "stream",
     "text": [
      "100%|██████████| 13/13 [00:03<00:00,  4.17it/s]\n"
     ]
    },
    {
     "name": "stdout",
     "output_type": "stream",
     "text": [
      "epoch 60 train end : avg_loss = 0.2394\n"
     ]
    },
    {
     "name": "stderr",
     "output_type": "stream",
     "text": [
      "100%|██████████| 4/4 [00:00<00:00,  6.25it/s]\n"
     ]
    },
    {
     "name": "stdout",
     "output_type": "stream",
     "text": [
      "epoch 60 test end : avg_loss = 0.8002\n"
     ]
    },
    {
     "name": "stderr",
     "output_type": "stream",
     "text": [
      "100%|██████████| 13/13 [00:03<00:00,  4.24it/s]\n"
     ]
    },
    {
     "name": "stdout",
     "output_type": "stream",
     "text": [
      "epoch 61 train end : avg_loss = 0.2292\n"
     ]
    },
    {
     "name": "stderr",
     "output_type": "stream",
     "text": [
      "100%|██████████| 4/4 [00:00<00:00,  6.18it/s]\n"
     ]
    },
    {
     "name": "stdout",
     "output_type": "stream",
     "text": [
      "epoch 61 test end : avg_loss = 0.9299\n"
     ]
    },
    {
     "name": "stderr",
     "output_type": "stream",
     "text": [
      "100%|██████████| 13/13 [00:03<00:00,  4.26it/s]\n"
     ]
    },
    {
     "name": "stdout",
     "output_type": "stream",
     "text": [
      "epoch 62 train end : avg_loss = 0.2765\n"
     ]
    },
    {
     "name": "stderr",
     "output_type": "stream",
     "text": [
      "100%|██████████| 4/4 [00:00<00:00,  6.16it/s]\n"
     ]
    },
    {
     "name": "stdout",
     "output_type": "stream",
     "text": [
      "epoch 62 test end : avg_loss = 0.8292\n"
     ]
    },
    {
     "name": "stderr",
     "output_type": "stream",
     "text": [
      "100%|██████████| 13/13 [00:03<00:00,  4.26it/s]\n"
     ]
    },
    {
     "name": "stdout",
     "output_type": "stream",
     "text": [
      "epoch 63 train end : avg_loss = 0.2081\n"
     ]
    },
    {
     "name": "stderr",
     "output_type": "stream",
     "text": [
      "100%|██████████| 4/4 [00:00<00:00,  6.17it/s]\n"
     ]
    },
    {
     "name": "stdout",
     "output_type": "stream",
     "text": [
      "epoch 63 test end : avg_loss = 1.0816\n"
     ]
    },
    {
     "name": "stderr",
     "output_type": "stream",
     "text": [
      "100%|██████████| 13/13 [00:03<00:00,  4.12it/s]\n"
     ]
    },
    {
     "name": "stdout",
     "output_type": "stream",
     "text": [
      "epoch 64 train end : avg_loss = 0.2682\n"
     ]
    },
    {
     "name": "stderr",
     "output_type": "stream",
     "text": [
      "100%|██████████| 4/4 [00:00<00:00,  5.80it/s]\n"
     ]
    },
    {
     "name": "stdout",
     "output_type": "stream",
     "text": [
      "epoch 64 test end : avg_loss = 1.0967\n"
     ]
    },
    {
     "name": "stderr",
     "output_type": "stream",
     "text": [
      "100%|██████████| 13/13 [00:03<00:00,  4.00it/s]\n"
     ]
    },
    {
     "name": "stdout",
     "output_type": "stream",
     "text": [
      "epoch 65 train end : avg_loss = 0.1905\n"
     ]
    },
    {
     "name": "stderr",
     "output_type": "stream",
     "text": [
      "100%|██████████| 4/4 [00:00<00:00,  6.10it/s]\n"
     ]
    },
    {
     "name": "stdout",
     "output_type": "stream",
     "text": [
      "epoch 65 test end : avg_loss = 0.7839\n"
     ]
    },
    {
     "name": "stderr",
     "output_type": "stream",
     "text": [
      "100%|██████████| 13/13 [00:03<00:00,  4.14it/s]\n"
     ]
    },
    {
     "name": "stdout",
     "output_type": "stream",
     "text": [
      "epoch 66 train end : avg_loss = 0.2248\n"
     ]
    },
    {
     "name": "stderr",
     "output_type": "stream",
     "text": [
      "100%|██████████| 4/4 [00:00<00:00,  5.81it/s]\n"
     ]
    },
    {
     "name": "stdout",
     "output_type": "stream",
     "text": [
      "epoch 66 test end : avg_loss = 0.7657\n"
     ]
    },
    {
     "name": "stderr",
     "output_type": "stream",
     "text": [
      "100%|██████████| 13/13 [00:03<00:00,  4.21it/s]\n"
     ]
    },
    {
     "name": "stdout",
     "output_type": "stream",
     "text": [
      "epoch 67 train end : avg_loss = 0.1859\n"
     ]
    },
    {
     "name": "stderr",
     "output_type": "stream",
     "text": [
      "100%|██████████| 4/4 [00:00<00:00,  6.22it/s]\n"
     ]
    },
    {
     "name": "stdout",
     "output_type": "stream",
     "text": [
      "epoch 67 test end : avg_loss = 0.9788\n"
     ]
    },
    {
     "name": "stderr",
     "output_type": "stream",
     "text": [
      "100%|██████████| 13/13 [00:03<00:00,  4.16it/s]\n"
     ]
    },
    {
     "name": "stdout",
     "output_type": "stream",
     "text": [
      "epoch 68 train end : avg_loss = 0.2682\n"
     ]
    },
    {
     "name": "stderr",
     "output_type": "stream",
     "text": [
      "100%|██████████| 4/4 [00:00<00:00,  6.10it/s]\n"
     ]
    },
    {
     "name": "stdout",
     "output_type": "stream",
     "text": [
      "epoch 68 test end : avg_loss = 1.1302\n"
     ]
    },
    {
     "name": "stderr",
     "output_type": "stream",
     "text": [
      "100%|██████████| 13/13 [00:03<00:00,  4.17it/s]\n"
     ]
    },
    {
     "name": "stdout",
     "output_type": "stream",
     "text": [
      "epoch 69 train end : avg_loss = 0.2265\n"
     ]
    },
    {
     "name": "stderr",
     "output_type": "stream",
     "text": [
      "100%|██████████| 4/4 [00:00<00:00,  6.21it/s]\n"
     ]
    },
    {
     "name": "stdout",
     "output_type": "stream",
     "text": [
      "epoch 69 test end : avg_loss = 0.7856\n"
     ]
    },
    {
     "name": "stderr",
     "output_type": "stream",
     "text": [
      "100%|██████████| 13/13 [00:03<00:00,  4.26it/s]\n"
     ]
    },
    {
     "name": "stdout",
     "output_type": "stream",
     "text": [
      "epoch 70 train end : avg_loss = 0.2801\n"
     ]
    },
    {
     "name": "stderr",
     "output_type": "stream",
     "text": [
      "100%|██████████| 4/4 [00:00<00:00,  6.20it/s]\n"
     ]
    },
    {
     "name": "stdout",
     "output_type": "stream",
     "text": [
      "epoch 70 test end : avg_loss = 1.4023\n"
     ]
    },
    {
     "name": "stderr",
     "output_type": "stream",
     "text": [
      "100%|██████████| 13/13 [00:03<00:00,  4.24it/s]\n"
     ]
    },
    {
     "name": "stdout",
     "output_type": "stream",
     "text": [
      "epoch 71 train end : avg_loss = 0.2351\n"
     ]
    },
    {
     "name": "stderr",
     "output_type": "stream",
     "text": [
      "100%|██████████| 4/4 [00:00<00:00,  6.24it/s]\n"
     ]
    },
    {
     "name": "stdout",
     "output_type": "stream",
     "text": [
      "epoch 71 test end : avg_loss = 0.9006\n"
     ]
    },
    {
     "name": "stderr",
     "output_type": "stream",
     "text": [
      "100%|██████████| 13/13 [00:03<00:00,  4.14it/s]\n"
     ]
    },
    {
     "name": "stdout",
     "output_type": "stream",
     "text": [
      "epoch 72 train end : avg_loss = 0.1880\n"
     ]
    },
    {
     "name": "stderr",
     "output_type": "stream",
     "text": [
      "100%|██████████| 4/4 [00:00<00:00,  6.20it/s]\n"
     ]
    },
    {
     "name": "stdout",
     "output_type": "stream",
     "text": [
      "epoch 72 test end : avg_loss = 0.8574\n"
     ]
    },
    {
     "name": "stderr",
     "output_type": "stream",
     "text": [
      "100%|██████████| 13/13 [00:03<00:00,  4.12it/s]\n"
     ]
    },
    {
     "name": "stdout",
     "output_type": "stream",
     "text": [
      "epoch 73 train end : avg_loss = 0.2595\n"
     ]
    },
    {
     "name": "stderr",
     "output_type": "stream",
     "text": [
      "100%|██████████| 4/4 [00:00<00:00,  5.96it/s]\n"
     ]
    },
    {
     "name": "stdout",
     "output_type": "stream",
     "text": [
      "epoch 73 test end : avg_loss = 1.0375\n"
     ]
    },
    {
     "name": "stderr",
     "output_type": "stream",
     "text": [
      "100%|██████████| 13/13 [00:03<00:00,  4.14it/s]\n"
     ]
    },
    {
     "name": "stdout",
     "output_type": "stream",
     "text": [
      "epoch 74 train end : avg_loss = 0.2453\n"
     ]
    },
    {
     "name": "stderr",
     "output_type": "stream",
     "text": [
      "100%|██████████| 4/4 [00:00<00:00,  5.77it/s]\n"
     ]
    },
    {
     "name": "stdout",
     "output_type": "stream",
     "text": [
      "epoch 74 test end : avg_loss = 0.8025\n"
     ]
    },
    {
     "name": "stderr",
     "output_type": "stream",
     "text": [
      "100%|██████████| 13/13 [00:03<00:00,  4.22it/s]\n"
     ]
    },
    {
     "name": "stdout",
     "output_type": "stream",
     "text": [
      "epoch 75 train end : avg_loss = 0.2840\n"
     ]
    },
    {
     "name": "stderr",
     "output_type": "stream",
     "text": [
      "100%|██████████| 4/4 [00:00<00:00,  6.09it/s]\n"
     ]
    },
    {
     "name": "stdout",
     "output_type": "stream",
     "text": [
      "epoch 75 test end : avg_loss = 1.0014\n"
     ]
    },
    {
     "name": "stderr",
     "output_type": "stream",
     "text": [
      "100%|██████████| 13/13 [00:03<00:00,  4.19it/s]\n"
     ]
    },
    {
     "name": "stdout",
     "output_type": "stream",
     "text": [
      "epoch 76 train end : avg_loss = 0.2797\n"
     ]
    },
    {
     "name": "stderr",
     "output_type": "stream",
     "text": [
      "100%|██████████| 4/4 [00:00<00:00,  6.09it/s]\n"
     ]
    },
    {
     "name": "stdout",
     "output_type": "stream",
     "text": [
      "epoch 76 test end : avg_loss = 1.1492\n"
     ]
    },
    {
     "name": "stderr",
     "output_type": "stream",
     "text": [
      "100%|██████████| 13/13 [00:03<00:00,  4.21it/s]\n"
     ]
    },
    {
     "name": "stdout",
     "output_type": "stream",
     "text": [
      "epoch 77 train end : avg_loss = 0.2355\n"
     ]
    },
    {
     "name": "stderr",
     "output_type": "stream",
     "text": [
      "100%|██████████| 4/4 [00:00<00:00,  6.15it/s]\n"
     ]
    },
    {
     "name": "stdout",
     "output_type": "stream",
     "text": [
      "epoch 77 test end : avg_loss = 1.2837\n"
     ]
    },
    {
     "name": "stderr",
     "output_type": "stream",
     "text": [
      "100%|██████████| 13/13 [00:03<00:00,  4.25it/s]\n"
     ]
    },
    {
     "name": "stdout",
     "output_type": "stream",
     "text": [
      "epoch 78 train end : avg_loss = 0.2057\n"
     ]
    },
    {
     "name": "stderr",
     "output_type": "stream",
     "text": [
      "100%|██████████| 4/4 [00:00<00:00,  6.18it/s]\n"
     ]
    },
    {
     "name": "stdout",
     "output_type": "stream",
     "text": [
      "epoch 78 test end : avg_loss = 0.9010\n"
     ]
    },
    {
     "name": "stderr",
     "output_type": "stream",
     "text": [
      "100%|██████████| 13/13 [00:03<00:00,  4.25it/s]\n"
     ]
    },
    {
     "name": "stdout",
     "output_type": "stream",
     "text": [
      "epoch 79 train end : avg_loss = 0.1764\n"
     ]
    },
    {
     "name": "stderr",
     "output_type": "stream",
     "text": [
      "100%|██████████| 4/4 [00:00<00:00,  6.11it/s]\n"
     ]
    },
    {
     "name": "stdout",
     "output_type": "stream",
     "text": [
      "epoch 79 test end : avg_loss = 1.1337\n"
     ]
    },
    {
     "name": "stderr",
     "output_type": "stream",
     "text": [
      "100%|██████████| 13/13 [00:03<00:00,  4.14it/s]\n"
     ]
    },
    {
     "name": "stdout",
     "output_type": "stream",
     "text": [
      "epoch 80 train end : avg_loss = 0.1372\n"
     ]
    },
    {
     "name": "stderr",
     "output_type": "stream",
     "text": [
      "100%|██████████| 4/4 [00:00<00:00,  6.11it/s]\n"
     ]
    },
    {
     "name": "stdout",
     "output_type": "stream",
     "text": [
      "epoch 80 test end : avg_loss = 0.8704\n"
     ]
    },
    {
     "name": "stderr",
     "output_type": "stream",
     "text": [
      "100%|██████████| 13/13 [00:03<00:00,  4.12it/s]\n"
     ]
    },
    {
     "name": "stdout",
     "output_type": "stream",
     "text": [
      "epoch 81 train end : avg_loss = 0.1323\n"
     ]
    },
    {
     "name": "stderr",
     "output_type": "stream",
     "text": [
      "100%|██████████| 4/4 [00:00<00:00,  5.21it/s]\n"
     ]
    },
    {
     "name": "stdout",
     "output_type": "stream",
     "text": [
      "epoch 81 test end : avg_loss = 0.9946\n"
     ]
    },
    {
     "name": "stderr",
     "output_type": "stream",
     "text": [
      "100%|██████████| 13/13 [00:03<00:00,  4.19it/s]\n"
     ]
    },
    {
     "name": "stdout",
     "output_type": "stream",
     "text": [
      "epoch 82 train end : avg_loss = 0.1761\n"
     ]
    },
    {
     "name": "stderr",
     "output_type": "stream",
     "text": [
      "100%|██████████| 4/4 [00:00<00:00,  5.68it/s]\n"
     ]
    },
    {
     "name": "stdout",
     "output_type": "stream",
     "text": [
      "epoch 82 test end : avg_loss = 1.1690\n"
     ]
    },
    {
     "name": "stderr",
     "output_type": "stream",
     "text": [
      "100%|██████████| 13/13 [00:03<00:00,  4.16it/s]\n"
     ]
    },
    {
     "name": "stdout",
     "output_type": "stream",
     "text": [
      "epoch 83 train end : avg_loss = 0.1638\n"
     ]
    },
    {
     "name": "stderr",
     "output_type": "stream",
     "text": [
      "100%|██████████| 4/4 [00:00<00:00,  6.16it/s]\n"
     ]
    },
    {
     "name": "stdout",
     "output_type": "stream",
     "text": [
      "epoch 83 test end : avg_loss = 0.9800\n"
     ]
    },
    {
     "name": "stderr",
     "output_type": "stream",
     "text": [
      "100%|██████████| 13/13 [00:03<00:00,  4.18it/s]\n"
     ]
    },
    {
     "name": "stdout",
     "output_type": "stream",
     "text": [
      "epoch 84 train end : avg_loss = 0.1671\n"
     ]
    },
    {
     "name": "stderr",
     "output_type": "stream",
     "text": [
      "100%|██████████| 4/4 [00:00<00:00,  6.26it/s]\n"
     ]
    },
    {
     "name": "stdout",
     "output_type": "stream",
     "text": [
      "epoch 84 test end : avg_loss = 0.8656\n"
     ]
    },
    {
     "name": "stderr",
     "output_type": "stream",
     "text": [
      "100%|██████████| 13/13 [00:03<00:00,  4.17it/s]\n"
     ]
    },
    {
     "name": "stdout",
     "output_type": "stream",
     "text": [
      "epoch 85 train end : avg_loss = 0.1816\n"
     ]
    },
    {
     "name": "stderr",
     "output_type": "stream",
     "text": [
      "100%|██████████| 4/4 [00:00<00:00,  6.13it/s]\n"
     ]
    },
    {
     "name": "stdout",
     "output_type": "stream",
     "text": [
      "epoch 85 test end : avg_loss = 0.8214\n"
     ]
    },
    {
     "name": "stderr",
     "output_type": "stream",
     "text": [
      "100%|██████████| 13/13 [00:03<00:00,  4.11it/s]\n"
     ]
    },
    {
     "name": "stdout",
     "output_type": "stream",
     "text": [
      "epoch 86 train end : avg_loss = 0.1704\n"
     ]
    },
    {
     "name": "stderr",
     "output_type": "stream",
     "text": [
      "100%|██████████| 4/4 [00:00<00:00,  6.12it/s]\n"
     ]
    },
    {
     "name": "stdout",
     "output_type": "stream",
     "text": [
      "epoch 86 test end : avg_loss = 0.9258\n"
     ]
    },
    {
     "name": "stderr",
     "output_type": "stream",
     "text": [
      "100%|██████████| 13/13 [00:03<00:00,  4.18it/s]\n"
     ]
    },
    {
     "name": "stdout",
     "output_type": "stream",
     "text": [
      "epoch 87 train end : avg_loss = 0.1261\n"
     ]
    },
    {
     "name": "stderr",
     "output_type": "stream",
     "text": [
      "100%|██████████| 4/4 [00:00<00:00,  6.03it/s]\n"
     ]
    },
    {
     "name": "stdout",
     "output_type": "stream",
     "text": [
      "epoch 87 test end : avg_loss = 1.0138\n"
     ]
    },
    {
     "name": "stderr",
     "output_type": "stream",
     "text": [
      "100%|██████████| 13/13 [00:03<00:00,  4.16it/s]\n"
     ]
    },
    {
     "name": "stdout",
     "output_type": "stream",
     "text": [
      "epoch 88 train end : avg_loss = 0.3037\n"
     ]
    },
    {
     "name": "stderr",
     "output_type": "stream",
     "text": [
      "100%|██████████| 4/4 [00:00<00:00,  6.19it/s]\n"
     ]
    },
    {
     "name": "stdout",
     "output_type": "stream",
     "text": [
      "epoch 88 test end : avg_loss = 1.2732\n"
     ]
    },
    {
     "name": "stderr",
     "output_type": "stream",
     "text": [
      "100%|██████████| 13/13 [00:03<00:00,  4.29it/s]\n"
     ]
    },
    {
     "name": "stdout",
     "output_type": "stream",
     "text": [
      "epoch 89 train end : avg_loss = 0.2004\n"
     ]
    },
    {
     "name": "stderr",
     "output_type": "stream",
     "text": [
      "100%|██████████| 4/4 [00:00<00:00,  6.25it/s]\n"
     ]
    },
    {
     "name": "stdout",
     "output_type": "stream",
     "text": [
      "epoch 89 test end : avg_loss = 0.9282\n"
     ]
    },
    {
     "name": "stderr",
     "output_type": "stream",
     "text": [
      "100%|██████████| 13/13 [00:03<00:00,  4.02it/s]\n"
     ]
    },
    {
     "name": "stdout",
     "output_type": "stream",
     "text": [
      "epoch 90 train end : avg_loss = 0.1514\n"
     ]
    },
    {
     "name": "stderr",
     "output_type": "stream",
     "text": [
      "100%|██████████| 4/4 [00:00<00:00,  5.93it/s]\n"
     ]
    },
    {
     "name": "stdout",
     "output_type": "stream",
     "text": [
      "epoch 90 test end : avg_loss = 0.9953\n"
     ]
    },
    {
     "name": "stderr",
     "output_type": "stream",
     "text": [
      "100%|██████████| 13/13 [00:03<00:00,  4.19it/s]\n"
     ]
    },
    {
     "name": "stdout",
     "output_type": "stream",
     "text": [
      "epoch 91 train end : avg_loss = 0.1950\n"
     ]
    },
    {
     "name": "stderr",
     "output_type": "stream",
     "text": [
      "100%|██████████| 4/4 [00:00<00:00,  5.99it/s]\n"
     ]
    },
    {
     "name": "stdout",
     "output_type": "stream",
     "text": [
      "epoch 91 test end : avg_loss = 0.8467\n"
     ]
    },
    {
     "name": "stderr",
     "output_type": "stream",
     "text": [
      "100%|██████████| 13/13 [00:03<00:00,  4.22it/s]\n"
     ]
    },
    {
     "name": "stdout",
     "output_type": "stream",
     "text": [
      "epoch 92 train end : avg_loss = 0.0748\n"
     ]
    },
    {
     "name": "stderr",
     "output_type": "stream",
     "text": [
      "100%|██████████| 4/4 [00:00<00:00,  5.99it/s]\n"
     ]
    },
    {
     "name": "stdout",
     "output_type": "stream",
     "text": [
      "epoch 92 test end : avg_loss = 1.1828\n"
     ]
    },
    {
     "name": "stderr",
     "output_type": "stream",
     "text": [
      "100%|██████████| 13/13 [00:03<00:00,  4.13it/s]\n"
     ]
    },
    {
     "name": "stdout",
     "output_type": "stream",
     "text": [
      "epoch 93 train end : avg_loss = 0.1669\n"
     ]
    },
    {
     "name": "stderr",
     "output_type": "stream",
     "text": [
      "100%|██████████| 4/4 [00:00<00:00,  5.93it/s]\n"
     ]
    },
    {
     "name": "stdout",
     "output_type": "stream",
     "text": [
      "epoch 93 test end : avg_loss = 0.6210\n"
     ]
    },
    {
     "name": "stderr",
     "output_type": "stream",
     "text": [
      "100%|██████████| 13/13 [00:03<00:00,  4.20it/s]\n"
     ]
    },
    {
     "name": "stdout",
     "output_type": "stream",
     "text": [
      "epoch 94 train end : avg_loss = 0.1901\n"
     ]
    },
    {
     "name": "stderr",
     "output_type": "stream",
     "text": [
      "100%|██████████| 4/4 [00:00<00:00,  5.34it/s]\n"
     ]
    },
    {
     "name": "stdout",
     "output_type": "stream",
     "text": [
      "epoch 94 test end : avg_loss = 1.1482\n"
     ]
    },
    {
     "name": "stderr",
     "output_type": "stream",
     "text": [
      "100%|██████████| 13/13 [00:03<00:00,  3.95it/s]\n"
     ]
    },
    {
     "name": "stdout",
     "output_type": "stream",
     "text": [
      "epoch 95 train end : avg_loss = 0.1669\n"
     ]
    },
    {
     "name": "stderr",
     "output_type": "stream",
     "text": [
      "100%|██████████| 4/4 [00:00<00:00,  6.24it/s]\n"
     ]
    },
    {
     "name": "stdout",
     "output_type": "stream",
     "text": [
      "epoch 95 test end : avg_loss = 1.0841\n"
     ]
    },
    {
     "name": "stderr",
     "output_type": "stream",
     "text": [
      "100%|██████████| 13/13 [00:03<00:00,  4.19it/s]\n"
     ]
    },
    {
     "name": "stdout",
     "output_type": "stream",
     "text": [
      "epoch 96 train end : avg_loss = 0.1336\n"
     ]
    },
    {
     "name": "stderr",
     "output_type": "stream",
     "text": [
      "100%|██████████| 4/4 [00:00<00:00,  6.15it/s]\n"
     ]
    },
    {
     "name": "stdout",
     "output_type": "stream",
     "text": [
      "epoch 96 test end : avg_loss = 1.3245\n"
     ]
    },
    {
     "name": "stderr",
     "output_type": "stream",
     "text": [
      "100%|██████████| 13/13 [00:03<00:00,  4.19it/s]\n"
     ]
    },
    {
     "name": "stdout",
     "output_type": "stream",
     "text": [
      "epoch 97 train end : avg_loss = 0.1893\n"
     ]
    },
    {
     "name": "stderr",
     "output_type": "stream",
     "text": [
      "100%|██████████| 4/4 [00:00<00:00,  6.08it/s]\n"
     ]
    },
    {
     "name": "stdout",
     "output_type": "stream",
     "text": [
      "epoch 97 test end : avg_loss = 1.1623\n"
     ]
    },
    {
     "name": "stderr",
     "output_type": "stream",
     "text": [
      "100%|██████████| 13/13 [00:03<00:00,  4.02it/s]\n"
     ]
    },
    {
     "name": "stdout",
     "output_type": "stream",
     "text": [
      "epoch 98 train end : avg_loss = 0.1306\n"
     ]
    },
    {
     "name": "stderr",
     "output_type": "stream",
     "text": [
      "100%|██████████| 4/4 [00:00<00:00,  5.91it/s]\n"
     ]
    },
    {
     "name": "stdout",
     "output_type": "stream",
     "text": [
      "epoch 98 test end : avg_loss = 0.7158\n"
     ]
    },
    {
     "name": "stderr",
     "output_type": "stream",
     "text": [
      "100%|██████████| 13/13 [00:03<00:00,  4.03it/s]\n"
     ]
    },
    {
     "name": "stdout",
     "output_type": "stream",
     "text": [
      "epoch 99 train end : avg_loss = 0.1547\n"
     ]
    },
    {
     "name": "stderr",
     "output_type": "stream",
     "text": [
      "100%|██████████| 4/4 [00:00<00:00,  5.83it/s]\n"
     ]
    },
    {
     "name": "stdout",
     "output_type": "stream",
     "text": [
      "epoch 99 test end : avg_loss = 0.8942\n"
     ]
    },
    {
     "name": "stderr",
     "output_type": "stream",
     "text": [
      "100%|██████████| 13/13 [00:03<00:00,  4.05it/s]\n"
     ]
    },
    {
     "name": "stdout",
     "output_type": "stream",
     "text": [
      "epoch 100 train end : avg_loss = 0.1546\n"
     ]
    },
    {
     "name": "stderr",
     "output_type": "stream",
     "text": [
      "100%|██████████| 4/4 [00:00<00:00,  5.96it/s]"
     ]
    },
    {
     "name": "stdout",
     "output_type": "stream",
     "text": [
      "epoch 100 test end : avg_loss = 1.2214\n"
     ]
    },
    {
     "name": "stderr",
     "output_type": "stream",
     "text": [
      "\n"
     ]
    }
   ],
   "source": [
    "batch_size = 16\n",
    "EPOCHS = 100\n",
    "LR = 1e-3\n",
    "# SAVE TRAINING LOGS.\n",
    "train(model, train_df, test_df, LR, EPOCHS, batch_size)"
   ]
  },
  {
   "cell_type": "markdown",
   "id": "94a429f0",
   "metadata": {
    "papermill": {
     "duration": 0.283899,
     "end_time": "2024-05-22T16:25:15.423619",
     "exception": false,
     "start_time": "2024-05-22T16:25:15.139720",
     "status": "completed"
    },
    "tags": []
   },
   "source": [
    "# 4. Evaluation"
   ]
  },
  {
   "cell_type": "code",
   "execution_count": 26,
   "id": "91a07cd4",
   "metadata": {
    "execution": {
     "iopub.execute_input": "2024-05-22T16:25:16.056455Z",
     "iopub.status.busy": "2024-05-22T16:25:16.055801Z",
     "iopub.status.idle": "2024-05-22T16:25:16.067843Z",
     "shell.execute_reply": "2024-05-22T16:25:16.066996Z"
    },
    "papermill": {
     "duration": 0.299364,
     "end_time": "2024-05-22T16:25:16.069781",
     "exception": false,
     "start_time": "2024-05-22T16:25:15.770417",
     "status": "completed"
    },
    "tags": []
   },
   "outputs": [
    {
     "data": {
      "text/html": [
       "<div>\n",
       "<style scoped>\n",
       "    .dataframe tbody tr th:only-of-type {\n",
       "        vertical-align: middle;\n",
       "    }\n",
       "\n",
       "    .dataframe tbody tr th {\n",
       "        vertical-align: top;\n",
       "    }\n",
       "\n",
       "    .dataframe thead th {\n",
       "        text-align: right;\n",
       "    }\n",
       "</style>\n",
       "<table border=\"1\" class=\"dataframe\">\n",
       "  <thead>\n",
       "    <tr style=\"text-align: right;\">\n",
       "      <th></th>\n",
       "      <th>query</th>\n",
       "      <th>label</th>\n",
       "    </tr>\n",
       "  </thead>\n",
       "  <tbody>\n",
       "    <tr>\n",
       "      <th>165</th>\n",
       "      <td>185.png</td>\n",
       "      <td>[185.stl, 85.stl, 200.stl, 214.stl, 115.stl]</td>\n",
       "    </tr>\n",
       "    <tr>\n",
       "      <th>6</th>\n",
       "      <td>103.png</td>\n",
       "      <td>[103.stl, 19.stl, 218.stl, 141.stl, 214.stl]</td>\n",
       "    </tr>\n",
       "    <tr>\n",
       "      <th>111</th>\n",
       "      <td>59.png</td>\n",
       "      <td>[59.stl, 109.stl, 116.stl, 133.stl, 222.stl]</td>\n",
       "    </tr>\n",
       "    <tr>\n",
       "      <th>172</th>\n",
       "      <td>191.png</td>\n",
       "      <td>[191.stl, 135.stl, 81.stl, 100.stl, 118.stl]</td>\n",
       "    </tr>\n",
       "    <tr>\n",
       "      <th>115</th>\n",
       "      <td>138.png</td>\n",
       "      <td>[138.stl, 60.stl, 148.stl, 235.stl, 226.stl]</td>\n",
       "    </tr>\n",
       "  </tbody>\n",
       "</table>\n",
       "</div>"
      ],
      "text/plain": [
       "       query                                         label\n",
       "165  185.png  [185.stl, 85.stl, 200.stl, 214.stl, 115.stl]\n",
       "6    103.png  [103.stl, 19.stl, 218.stl, 141.stl, 214.stl]\n",
       "111   59.png  [59.stl, 109.stl, 116.stl, 133.stl, 222.stl]\n",
       "172  191.png  [191.stl, 135.stl, 81.stl, 100.stl, 118.stl]\n",
       "115  138.png  [138.stl, 60.stl, 148.stl, 235.stl, 226.stl]"
      ]
     },
     "execution_count": 26,
     "metadata": {},
     "output_type": "execute_result"
    }
   ],
   "source": [
    "test_df.head()"
   ]
  },
  {
   "cell_type": "code",
   "execution_count": 27,
   "id": "a726ffb0",
   "metadata": {
    "execution": {
     "iopub.execute_input": "2024-05-22T16:25:16.637105Z",
     "iopub.status.busy": "2024-05-22T16:25:16.636396Z",
     "iopub.status.idle": "2024-05-22T16:27:25.351509Z",
     "shell.execute_reply": "2024-05-22T16:27:25.350507Z"
    },
    "papermill": {
     "duration": 129.352024,
     "end_time": "2024-05-22T16:27:25.709267",
     "exception": false,
     "start_time": "2024-05-22T16:25:16.357243",
     "status": "completed"
    },
    "tags": []
   },
   "outputs": [
    {
     "name": "stdout",
     "output_type": "stream",
     "text": [
      "Query with image: 185.png, label: 185.stl\n",
      "Matching at pos 35\n",
      "Query: 185.png, MRR@5: 0.027777777777777776\n",
      "Query with image: 103.png, label: 103.stl\n",
      "Matching at pos 22\n",
      "Query: 103.png, MRR@5: 0.043478260869565216\n",
      "Query with image: 59.png, label: 59.stl\n",
      "Matching at pos 161\n",
      "Query: 59.png, MRR@5: 0.006172839506172839\n",
      "Query with image: 191.png, label: 191.stl\n",
      "Matching at pos 116\n",
      "Query: 191.png, MRR@5: 0.008547008547008548\n",
      "Query with image: 138.png, label: 138.stl\n",
      "Matching at pos 179\n",
      "Query: 138.png, MRR@5: 0.005555555555555556\n",
      "Query with image: 201.png, label: 201.stl\n",
      "Matching at pos 110\n",
      "Query: 201.png, MRR@5: 0.009009009009009009\n",
      "Query with image: 217.png, label: 217.stl\n",
      "Matching at pos 8\n",
      "Query: 217.png, MRR@5: 0.1111111111111111\n",
      "Query with image: 250.png, label: 250.stl\n",
      "Matching at pos 63\n",
      "Query: 250.png, MRR@5: 0.015625\n",
      "Query with image: 106.png, label: 106.stl\n",
      "Matching at pos 18\n",
      "Query: 106.png, MRR@5: 0.05263157894736842\n",
      "Query with image: 126.png, label: 126.stl\n",
      "Matching at pos 131\n",
      "Query: 126.png, MRR@5: 0.007575757575757576\n",
      "Query with image: 6.png, label: 6.stl\n",
      "Matching at pos 152\n",
      "Query: 6.png, MRR@5: 0.006535947712418301\n",
      "Query with image: 235.png, label: 235.stl\n",
      "Matching at pos 21\n",
      "Query: 235.png, MRR@5: 0.045454545454545456\n",
      "Query with image: 242.png, label: 242.stl\n",
      "Matching at pos 10\n",
      "Query: 242.png, MRR@5: 0.09090909090909091\n",
      "Query with image: 18.png, label: 18.stl\n",
      "Matching at pos 37\n",
      "Query: 18.png, MRR@5: 0.02631578947368421\n",
      "Query with image: 67.png, label: 67.stl\n",
      "Matching at pos 18\n",
      "Query: 67.png, MRR@5: 0.05263157894736842\n",
      "Query with image: 169.png, label: 169.stl\n",
      "Matching at pos 60\n",
      "Query: 169.png, MRR@5: 0.01639344262295082\n",
      "Query with image: 214.png, label: 214.stl\n",
      "Matching at pos 134\n",
      "Query: 214.png, MRR@5: 0.007407407407407408\n",
      "Query with image: 111.png, label: 111.stl\n",
      "Matching at pos 64\n",
      "Query: 111.png, MRR@5: 0.015384615384615385\n",
      "Query with image: 98.png, label: 98.stl\n",
      "Matching at pos 122\n",
      "Query: 98.png, MRR@5: 0.008130081300813009\n",
      "Query with image: 120.png, label: 120.stl\n",
      "Matching at pos 10\n",
      "Query: 120.png, MRR@5: 0.09090909090909091\n",
      "Query with image: 84.png, label: 84.stl\n",
      "Matching at pos 74\n",
      "Query: 84.png, MRR@5: 0.013333333333333334\n",
      "Query with image: 115.png, label: 115.stl\n",
      "Matching at pos 14\n",
      "Query: 115.png, MRR@5: 0.06666666666666667\n",
      "Query with image: 14.png, label: 14.stl\n",
      "Matching at pos 69\n",
      "Query: 14.png, MRR@5: 0.014285714285714285\n",
      "Query with image: 146.png, label: 146.stl\n",
      "Matching at pos 119\n",
      "Query: 146.png, MRR@5: 0.008333333333333333\n",
      "Query with image: 129.png, label: 129.stl\n",
      "Matching at pos 56\n",
      "Query: 129.png, MRR@5: 0.017543859649122806\n",
      "Query with image: 30.png, label: 30.stl\n",
      "Matching at pos 16\n",
      "Query: 30.png, MRR@5: 0.058823529411764705\n",
      "Query with image: 204.png, label: 204.stl\n",
      "Matching at pos 174\n",
      "Query: 204.png, MRR@5: 0.005714285714285714\n",
      "Query with image: 236.png, label: 236.stl\n",
      "Matching at pos 3\n",
      "Query: 236.png, MRR@5: 0.25\n",
      "Query with image: 107.png, label: 107.stl\n",
      "Matching at pos 78\n",
      "Query: 107.png, MRR@5: 0.012658227848101266\n",
      "Query with image: 182.png, label: 182.stl\n",
      "Matching at pos 239\n",
      "Query: 182.png, MRR@5: 0.004166666666666667\n",
      "Query with image: 161.png, label: 161.stl\n",
      "Matching at pos 3\n",
      "Query: 161.png, MRR@5: 0.25\n",
      "Query with image: 93.png, label: 93.stl\n",
      "Matching at pos 191\n",
      "Query: 93.png, MRR@5: 0.005208333333333333\n",
      "Query with image: 147.png, label: 147.stl\n",
      "Matching at pos 7\n",
      "Query: 147.png, MRR@5: 0.125\n",
      "Query with image: 80.png, label: 80.stl\n",
      "Matching at pos 91\n",
      "Query: 80.png, MRR@5: 0.010869565217391304\n",
      "Query with image: 230.png, label: 230.stl\n",
      "Matching at pos 4\n",
      "Query: 230.png, MRR@5: 0.2\n",
      "Query with image: 121.png, label: 121.stl\n",
      "Matching at pos 50\n",
      "Query: 121.png, MRR@5: 0.0196078431372549\n",
      "Query with image: 23.png, label: 23.stl\n",
      "Matching at pos 229\n",
      "Query: 23.png, MRR@5: 0.004347826086956522\n",
      "Query with image: 114.png, label: 114.stl\n",
      "Matching at pos 63\n",
      "Query: 114.png, MRR@5: 0.015625\n",
      "Query with image: 222.png, label: 222.stl\n",
      "Matching at pos 66\n",
      "Query: 222.png, MRR@5: 0.014925373134328358\n",
      "Query with image: 200.png, label: 200.stl\n",
      "Matching at pos 21\n",
      "Query: 200.png, MRR@5: 0.045454545454545456\n",
      "Query with image: 66.png, label: 66.stl\n",
      "Matching at pos 57\n",
      "Query: 66.png, MRR@5: 0.017241379310344827\n",
      "Query with image: 153.png, label: 153.stl\n",
      "Matching at pos 22\n",
      "Query: 153.png, MRR@5: 0.043478260869565216\n",
      "Query with image: 177.png, label: 177.stl\n",
      "Matching at pos 40\n",
      "Query: 177.png, MRR@5: 0.024390243902439025\n",
      "Query with image: 164.png, label: 164.stl\n",
      "Matching at pos 50\n",
      "Query: 164.png, MRR@5: 0.0196078431372549\n",
      "Query with image: 45.png, label: 45.stl\n",
      "Matching at pos 84\n",
      "Query: 45.png, MRR@5: 0.011764705882352941\n",
      "Query with image: 198.png, label: 198.stl\n",
      "Matching at pos 58\n",
      "Query: 198.png, MRR@5: 0.01694915254237288\n",
      "Query with image: 112.png, label: 112.stl\n",
      "Matching at pos 2\n",
      "Query: 112.png, MRR@5: 0.3333333333333333\n",
      "Query with image: 65.png, label: 65.stl\n",
      "Matching at pos 25\n",
      "Query: 65.png, MRR@5: 0.038461538461538464\n",
      "Query with image: 163.png, label: 163.stl\n",
      "Matching at pos 0\n",
      "Query: 163.png, MRR@5: 1.0\n",
      "Query with image: 195.png, label: 195.stl\n",
      "Matching at pos 223\n",
      "Query: 195.png, MRR@5: 0.004464285714285714\n",
      "Query with image: 133.png, label: 133.stl\n",
      "Matching at pos 40\n",
      "Query: 133.png, MRR@5: 0.024390243902439025\n",
      "Test MRR 0.06518040351666735\n"
     ]
    }
   ],
   "source": [
    "model.eval()\n",
    "mrr_test = []\n",
    "for q in test_df['query']:\n",
    "    \n",
    "    # Load the query image\n",
    "    img = Image.open('/kaggle/input/2d-3d-retrieval-dataset/wb_2D3Dretrieval_dataset/queries/' + q).convert(\"RGB\")\n",
    "    img_tensor = test_transform(img).unsqueeze(0).to('cuda').float()\n",
    "\n",
    "    label = test_df[test_df['query'] == q].label.values[0][0]\n",
    "    print(f\"Query with image: {q}, label: {label}\")\n",
    "    # Calculate the distance between the query image and all the database images\n",
    "    distances = {}\n",
    "    for db in db_names:\n",
    "        db_feat = torch.from_numpy(database_arr[db]).unsqueeze(0).to('cuda').float()\n",
    "        img_emb, db_emb = model(img_tensor, db_feat)\n",
    "        dist = torch.nn.functional.pairwise_distance(img_emb, db_emb)\n",
    "        distances[db] = dist.item()\n",
    "\n",
    "    # Sort the distances\n",
    "    sorted_distances = sorted(distances.items(), key=lambda x: x[1])\n",
    "    # Calculate the MRR\n",
    "    mrr = 0\n",
    "    for i, (db, dist) in enumerate(sorted_distances):\n",
    "        if db == label:\n",
    "            print(f\"Matching at pos {i}\")\n",
    "            mrr = 1/(i+1)\n",
    "            break\n",
    "    mrr_test.append(mrr)\n",
    "    print(f\"Query: {q}, MRR@5: {mrr}\")\n",
    "print(f\"Test MRR {sum(mrr_test)/ len(mrr_test)}\")"
   ]
  },
  {
   "cell_type": "code",
   "execution_count": null,
   "id": "650067a9",
   "metadata": {
    "papermill": {
     "duration": 0.286494,
     "end_time": "2024-05-22T16:27:26.285182",
     "exception": false,
     "start_time": "2024-05-22T16:27:25.998688",
     "status": "completed"
    },
    "tags": []
   },
   "outputs": [],
   "source": []
  },
  {
   "cell_type": "code",
   "execution_count": null,
   "id": "2ad97913",
   "metadata": {
    "papermill": {
     "duration": 0.285049,
     "end_time": "2024-05-22T16:27:26.857260",
     "exception": false,
     "start_time": "2024-05-22T16:27:26.572211",
     "status": "completed"
    },
    "tags": []
   },
   "outputs": [],
   "source": []
  },
  {
   "cell_type": "code",
   "execution_count": null,
   "id": "7960fa38",
   "metadata": {
    "papermill": {
     "duration": 0.287096,
     "end_time": "2024-05-22T16:27:27.429405",
     "exception": false,
     "start_time": "2024-05-22T16:27:27.142309",
     "status": "completed"
    },
    "tags": []
   },
   "outputs": [],
   "source": []
  }
 ],
 "metadata": {
  "kaggle": {
   "accelerator": "nvidiaTeslaT4",
   "dataSources": [
    {
     "datasetId": 4896998,
     "sourceId": 8252708,
     "sourceType": "datasetVersion"
    },
    {
     "isSourceIdPinned": true,
     "modelInstanceId": 38560,
     "sourceId": 46001,
     "sourceType": "modelInstanceVersion"
    }
   ],
   "dockerImageVersionId": 30698,
   "isGpuEnabled": true,
   "isInternetEnabled": true,
   "language": "python",
   "sourceType": "notebook"
  },
  "kernelspec": {
   "display_name": "Python 3",
   "language": "python",
   "name": "python3"
  },
  "language_info": {
   "codemirror_mode": {
    "name": "ipython",
    "version": 3
   },
   "file_extension": ".py",
   "mimetype": "text/x-python",
   "name": "python",
   "nbconvert_exporter": "python",
   "pygments_lexer": "ipython3",
   "version": "3.10.13"
  },
  "papermill": {
   "default_parameters": {},
   "duration": 831.774401,
   "end_time": "2024-05-22T16:27:30.300394",
   "environment_variables": {},
   "exception": null,
   "input_path": "__notebook__.ipynb",
   "output_path": "__notebook__.ipynb",
   "parameters": {},
   "start_time": "2024-05-22T16:13:38.525993",
   "version": "2.5.0"
  },
  "widgets": {
   "application/vnd.jupyter.widget-state+json": {
    "state": {
     "009efe1e29984d98b3ba93ec11e2a121": {
      "model_module": "@jupyter-widgets/controls",
      "model_module_version": "2.0.0",
      "model_name": "HTMLModel",
      "state": {
       "_dom_classes": [],
       "_model_module": "@jupyter-widgets/controls",
       "_model_module_version": "2.0.0",
       "_model_name": "HTMLModel",
       "_view_count": null,
       "_view_module": "@jupyter-widgets/controls",
       "_view_module_version": "2.0.0",
       "_view_name": "HTMLView",
       "description": "",
       "description_allow_html": false,
       "layout": "IPY_MODEL_0e0302e3dfe84b8bb8945fce3a9f288d",
       "placeholder": "​",
       "style": "IPY_MODEL_5d29c9a4a84546638e6ef1737aa88585",
       "tabbable": null,
       "tooltip": null,
       "value": " 14.2M/14.2M [00:00&lt;00:00, 47.1MB/s]"
      }
     },
     "0e0302e3dfe84b8bb8945fce3a9f288d": {
      "model_module": "@jupyter-widgets/base",
      "model_module_version": "2.0.0",
      "model_name": "LayoutModel",
      "state": {
       "_model_module": "@jupyter-widgets/base",
       "_model_module_version": "2.0.0",
       "_model_name": "LayoutModel",
       "_view_count": null,
       "_view_module": "@jupyter-widgets/base",
       "_view_module_version": "2.0.0",
       "_view_name": "LayoutView",
       "align_content": null,
       "align_items": null,
       "align_self": null,
       "border_bottom": null,
       "border_left": null,
       "border_right": null,
       "border_top": null,
       "bottom": null,
       "display": null,
       "flex": null,
       "flex_flow": null,
       "grid_area": null,
       "grid_auto_columns": null,
       "grid_auto_flow": null,
       "grid_auto_rows": null,
       "grid_column": null,
       "grid_gap": null,
       "grid_row": null,
       "grid_template_areas": null,
       "grid_template_columns": null,
       "grid_template_rows": null,
       "height": null,
       "justify_content": null,
       "justify_items": null,
       "left": null,
       "margin": null,
       "max_height": null,
       "max_width": null,
       "min_height": null,
       "min_width": null,
       "object_fit": null,
       "object_position": null,
       "order": null,
       "overflow": null,
       "padding": null,
       "right": null,
       "top": null,
       "visibility": null,
       "width": null
      }
     },
     "169701de2f4444fdb980287fa3de1d08": {
      "model_module": "@jupyter-widgets/controls",
      "model_module_version": "2.0.0",
      "model_name": "FloatProgressModel",
      "state": {
       "_dom_classes": [],
       "_model_module": "@jupyter-widgets/controls",
       "_model_module_version": "2.0.0",
       "_model_name": "FloatProgressModel",
       "_view_count": null,
       "_view_module": "@jupyter-widgets/controls",
       "_view_module_version": "2.0.0",
       "_view_name": "ProgressView",
       "bar_style": "success",
       "description": "",
       "description_allow_html": false,
       "layout": "IPY_MODEL_f83ed5b6eccf4adf80828e9bc7509feb",
       "max": 14184144.0,
       "min": 0.0,
       "orientation": "horizontal",
       "style": "IPY_MODEL_a0c4966abb97435babef4a5e8946a2a2",
       "tabbable": null,
       "tooltip": null,
       "value": 14184144.0
      }
     },
     "3b5810f1d3944197b7c358c59b31f4ef": {
      "model_module": "@jupyter-widgets/base",
      "model_module_version": "2.0.0",
      "model_name": "LayoutModel",
      "state": {
       "_model_module": "@jupyter-widgets/base",
       "_model_module_version": "2.0.0",
       "_model_name": "LayoutModel",
       "_view_count": null,
       "_view_module": "@jupyter-widgets/base",
       "_view_module_version": "2.0.0",
       "_view_name": "LayoutView",
       "align_content": null,
       "align_items": null,
       "align_self": null,
       "border_bottom": null,
       "border_left": null,
       "border_right": null,
       "border_top": null,
       "bottom": null,
       "display": null,
       "flex": null,
       "flex_flow": null,
       "grid_area": null,
       "grid_auto_columns": null,
       "grid_auto_flow": null,
       "grid_auto_rows": null,
       "grid_column": null,
       "grid_gap": null,
       "grid_row": null,
       "grid_template_areas": null,
       "grid_template_columns": null,
       "grid_template_rows": null,
       "height": null,
       "justify_content": null,
       "justify_items": null,
       "left": null,
       "margin": null,
       "max_height": null,
       "max_width": null,
       "min_height": null,
       "min_width": null,
       "object_fit": null,
       "object_position": null,
       "order": null,
       "overflow": null,
       "padding": null,
       "right": null,
       "top": null,
       "visibility": null,
       "width": null
      }
     },
     "5d29c9a4a84546638e6ef1737aa88585": {
      "model_module": "@jupyter-widgets/controls",
      "model_module_version": "2.0.0",
      "model_name": "HTMLStyleModel",
      "state": {
       "_model_module": "@jupyter-widgets/controls",
       "_model_module_version": "2.0.0",
       "_model_name": "HTMLStyleModel",
       "_view_count": null,
       "_view_module": "@jupyter-widgets/base",
       "_view_module_version": "2.0.0",
       "_view_name": "StyleView",
       "background": null,
       "description_width": "",
       "font_size": null,
       "text_color": null
      }
     },
     "6d73267d2e5f4509ba36e31a83beb526": {
      "model_module": "@jupyter-widgets/controls",
      "model_module_version": "2.0.0",
      "model_name": "HTMLStyleModel",
      "state": {
       "_model_module": "@jupyter-widgets/controls",
       "_model_module_version": "2.0.0",
       "_model_name": "HTMLStyleModel",
       "_view_count": null,
       "_view_module": "@jupyter-widgets/base",
       "_view_module_version": "2.0.0",
       "_view_name": "StyleView",
       "background": null,
       "description_width": "",
       "font_size": null,
       "text_color": null
      }
     },
     "887a985754e844c58010dd18f171b232": {
      "model_module": "@jupyter-widgets/base",
      "model_module_version": "2.0.0",
      "model_name": "LayoutModel",
      "state": {
       "_model_module": "@jupyter-widgets/base",
       "_model_module_version": "2.0.0",
       "_model_name": "LayoutModel",
       "_view_count": null,
       "_view_module": "@jupyter-widgets/base",
       "_view_module_version": "2.0.0",
       "_view_name": "LayoutView",
       "align_content": null,
       "align_items": null,
       "align_self": null,
       "border_bottom": null,
       "border_left": null,
       "border_right": null,
       "border_top": null,
       "bottom": null,
       "display": null,
       "flex": null,
       "flex_flow": null,
       "grid_area": null,
       "grid_auto_columns": null,
       "grid_auto_flow": null,
       "grid_auto_rows": null,
       "grid_column": null,
       "grid_gap": null,
       "grid_row": null,
       "grid_template_areas": null,
       "grid_template_columns": null,
       "grid_template_rows": null,
       "height": null,
       "justify_content": null,
       "justify_items": null,
       "left": null,
       "margin": null,
       "max_height": null,
       "max_width": null,
       "min_height": null,
       "min_width": null,
       "object_fit": null,
       "object_position": null,
       "order": null,
       "overflow": null,
       "padding": null,
       "right": null,
       "top": null,
       "visibility": null,
       "width": null
      }
     },
     "9c5be11c26314bd78e9b064cee5aae09": {
      "model_module": "@jupyter-widgets/controls",
      "model_module_version": "2.0.0",
      "model_name": "HTMLModel",
      "state": {
       "_dom_classes": [],
       "_model_module": "@jupyter-widgets/controls",
       "_model_module_version": "2.0.0",
       "_model_name": "HTMLModel",
       "_view_count": null,
       "_view_module": "@jupyter-widgets/controls",
       "_view_module_version": "2.0.0",
       "_view_name": "HTMLView",
       "description": "",
       "description_allow_html": false,
       "layout": "IPY_MODEL_3b5810f1d3944197b7c358c59b31f4ef",
       "placeholder": "​",
       "style": "IPY_MODEL_6d73267d2e5f4509ba36e31a83beb526",
       "tabbable": null,
       "tooltip": null,
       "value": "model.safetensors: 100%"
      }
     },
     "a0c4966abb97435babef4a5e8946a2a2": {
      "model_module": "@jupyter-widgets/controls",
      "model_module_version": "2.0.0",
      "model_name": "ProgressStyleModel",
      "state": {
       "_model_module": "@jupyter-widgets/controls",
       "_model_module_version": "2.0.0",
       "_model_name": "ProgressStyleModel",
       "_view_count": null,
       "_view_module": "@jupyter-widgets/base",
       "_view_module_version": "2.0.0",
       "_view_name": "StyleView",
       "bar_color": null,
       "description_width": ""
      }
     },
     "e3ad9ea0c49046ea83ae053646de4b2d": {
      "model_module": "@jupyter-widgets/controls",
      "model_module_version": "2.0.0",
      "model_name": "HBoxModel",
      "state": {
       "_dom_classes": [],
       "_model_module": "@jupyter-widgets/controls",
       "_model_module_version": "2.0.0",
       "_model_name": "HBoxModel",
       "_view_count": null,
       "_view_module": "@jupyter-widgets/controls",
       "_view_module_version": "2.0.0",
       "_view_name": "HBoxView",
       "box_style": "",
       "children": [
        "IPY_MODEL_9c5be11c26314bd78e9b064cee5aae09",
        "IPY_MODEL_169701de2f4444fdb980287fa3de1d08",
        "IPY_MODEL_009efe1e29984d98b3ba93ec11e2a121"
       ],
       "layout": "IPY_MODEL_887a985754e844c58010dd18f171b232",
       "tabbable": null,
       "tooltip": null
      }
     },
     "f83ed5b6eccf4adf80828e9bc7509feb": {
      "model_module": "@jupyter-widgets/base",
      "model_module_version": "2.0.0",
      "model_name": "LayoutModel",
      "state": {
       "_model_module": "@jupyter-widgets/base",
       "_model_module_version": "2.0.0",
       "_model_name": "LayoutModel",
       "_view_count": null,
       "_view_module": "@jupyter-widgets/base",
       "_view_module_version": "2.0.0",
       "_view_name": "LayoutView",
       "align_content": null,
       "align_items": null,
       "align_self": null,
       "border_bottom": null,
       "border_left": null,
       "border_right": null,
       "border_top": null,
       "bottom": null,
       "display": null,
       "flex": null,
       "flex_flow": null,
       "grid_area": null,
       "grid_auto_columns": null,
       "grid_auto_flow": null,
       "grid_auto_rows": null,
       "grid_column": null,
       "grid_gap": null,
       "grid_row": null,
       "grid_template_areas": null,
       "grid_template_columns": null,
       "grid_template_rows": null,
       "height": null,
       "justify_content": null,
       "justify_items": null,
       "left": null,
       "margin": null,
       "max_height": null,
       "max_width": null,
       "min_height": null,
       "min_width": null,
       "object_fit": null,
       "object_position": null,
       "order": null,
       "overflow": null,
       "padding": null,
       "right": null,
       "top": null,
       "visibility": null,
       "width": null
      }
     }
    },
    "version_major": 2,
    "version_minor": 0
   }
  }
 },
 "nbformat": 4,
 "nbformat_minor": 5
}
